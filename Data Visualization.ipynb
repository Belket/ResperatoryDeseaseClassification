{
 "cells": [
  {
   "cell_type": "code",
   "execution_count": 13,
   "metadata": {
    "collapsed": true
   },
   "outputs": [],
   "source": [
    "import pandas as pd\n",
    "import matplotlib.pyplot as plt\n",
    "import seaborn as sbn\n",
    "import plotly\n",
    "%matplotlib inline"
   ]
  },
  {
   "cell_type": "code",
   "execution_count": 18,
   "metadata": {
    "collapsed": true
   },
   "outputs": [],
   "source": [
    "separator = ','\n",
    "all_data = pd.read_csv(\"all_data.csv\", sep=separator)\n",
    "morning_data = pd.read_csv(\"morning_data.csv\", sep=separator)\n",
    "afternoon_data =pd.read_csv(\"afternoon_data.csv\", sep=separator)\n",
    "datasets = [all_data, morning_data, afternoon_data]"
   ]
  },
  {
   "cell_type": "code",
   "execution_count": 20,
   "metadata": {},
   "outputs": [
    {
     "data": {
      "text/plain": [
       "Index(['cid', 'patient_id', 'date1', 'age', 'gender', 'weight', 'height',\n",
       "       'cardiostimulator', 'smoking', 'diseasediabetes', 'diseasehypertonia',\n",
       "       'respiratory_disease', 'p_a', 'p_da', 'p_t', 'p_left_slopes',\n",
       "       'p_right_slopes', 'q_a', 'q_b_t', 'q_e_t', 'r_a', 'r_left_slopes',\n",
       "       'r_right_slopes', 'r_b_t', 'r_e_t', 's_a', 's_da', 's_b_t', 's_e_t',\n",
       "       't_a', 't_da', 't_t', 't_left_slopes', 't_right_slopes', 'interval_pq',\n",
       "       'komplex_qrs', 'segment_st', 'interval_qt', 'zubets_p', 'pulse', 'sdnn',\n",
       "       'skewness', 'amo', 'swai', 'mo', 'drr', 'rrnn', 'pnn50', 'si', 'sati',\n",
       "       'rmi', 'kurtosis', 'cv', 'rmssd', 'nn50', 'lf', 'lfhf', 'hfp', 'ulf',\n",
       "       'tp', 'vlf', 'vlfp', 'lfp', 'br', 'ulfp', 'ic', 'hf', 'tpfull', 'lfw',\n",
       "       'lfhfw', 'hfpw', 'ulfw', 'tpw', 'vlfw', 'vlfpw', 'lfpw', 'brw', 'ulfpw',\n",
       "       'icw', 'hfw', 'tpfullw'],\n",
       "      dtype='object')"
      ]
     },
     "execution_count": 20,
     "metadata": {},
     "output_type": "execute_result"
    }
   ],
   "source": [
    "all_data.columns"
   ]
  },
  {
   "cell_type": "markdown",
   "metadata": {},
   "source": [
    "## Functions for description of data"
   ]
  },
  {
   "cell_type": "code",
   "execution_count": 16,
   "metadata": {
    "collapsed": true
   },
   "outputs": [],
   "source": [
    "# create hist of data\n",
    "def show_hist(data, title=\"\", xlabel=\"\", ylabel=\"\", grid=False):\n",
    "    fig, ax = plt.subplots()\n",
    "    ax.hist(data)\n",
    "    ax.set_title(title)\n",
    "    ax.set_xlabel(xlabel)\n",
    "    ax.set_ylabel(ylabel)\n",
    "    ax.grid(grid)\n",
    "    \n",
    "# create hist of binary data\n",
    "def show_binary_hist(data, title=\"\", xlabel=\"\", ylabel=\"\", grid=False):\n",
    "    fig, ax = plt.subplots()\n",
    "    ax.hist(data, bins=(-0.25, 0.25, 0.75, 1.25))\n",
    "    plt.xticks((0,1))\n",
    "    ax.set_title(title)\n",
    "    ax.set_xlabel(xlabel)\n",
    "    ax.set_ylabel(ylabel)\n",
    "    ax.grid(grid)\n",
    "\n",
    "def describe_data(df, headers_color=\"\", headers_bold=False):\n",
    "    pretty_print(str(df.shape[0]), \"Number of ECG: \", headers_color, headers_bold)\n",
    "    \n",
    "    with_desease = str(len(df['respiratory_disease'][df['respiratory_disease'] == 1]))\n",
    "    pretty_print(with_desease, \"Number of ECG with desease: \", headers_color, headers_bold)\n",
    "    \n",
    "    without_desease = str(len(df['respiratory_disease'][df['respiratory_disease'] != 1]))\n",
    "    pretty_print(without_desease, \"Number of ECG without desease: \", headers_color, headers_bold)\n",
    "    \n",
    "    patients = str(len(df[\"patient_id\"].unique()))\n",
    "    pretty_print(patients, \"Number of patiants: \", headers_color, headers_bold)\n",
    "    \n",
    "    patients_with_desease = str(len(df[\"patient_id\"][df[\"respiratory_disease\"] == 1].unique()))\n",
    "    pretty_print(patients_with_desease, \"Number of patiants with respiratory desease: \", headers_color, headers_bold)\n",
    "    \n",
    "    patients_without_desease = str(len(df[\"patient_id\"][df[\"respiratory_disease\"] != 1].unique()))\n",
    "    pretty_print(patients_without_desease, \"Number of patiants with respiratory desease: \", headers_color, headers_bold)\n",
    "    \n",
    "    show_hist(df[\"age\"], \"Patient age hist\", \"Age\", \"Amount\")\n",
    "    show_binary_hist(df[\"gender\"], \"Patient gender hist\", \"Gender\", \"Amount\")\n",
    "    show_binary_hist(df[\"smoking\"], \"Patient smoking hist\", \"Smoking\", \"Amount\")\n",
    "    show_binary_hist(df[\"cardiostimulator\"], \"Patient cardiostimulator hist\", \"Cardiostimulator\", \"Amount\")\n",
    "    show_binary_hist(df[\"diseasediabetes\"], \"Patient diseasediabetes hist\", \"Diabete\", \"Amount\")\n",
    "    show_binary_hist(df[\"diseasehypertonia\"], \"Patient diseasehypertonia hist\", \"Hypertonia\", \"Amount\")\n",
    "    show_binary_hist(df[\"cardio_desease\"], \"Patient cardio_desease hist\", \"Cardio desease\", \"Amount\")\n",
    "    \n",
    "    patients_with_cardio_desease = df[\"respiratory_disease\"][df[\"cardio_desease\"] == 1]\n",
    "    show_binary_hist(patients_with_cardio_desease, \"Patient resperatory deseases with cardio desease hist\",\n",
    "                     \"Respiratory desease\", \"Amount\")\n",
    "    \n",
    "    patients_without_cardio_desease = df[\"respiratory_disease\"][df[\"cardio_desease\"] != 1]\n",
    "    show_binary_hist(patients_without_cardio_desease, \"Patient resperatory deseases without cardio desease hist\",\n",
    "                     \"Respiratory desease\", \"Amount\")"
   ]
  },
  {
   "cell_type": "code",
   "execution_count": null,
   "metadata": {
    "collapsed": true
   },
   "outputs": [],
   "source": [
    "describe_data(all_data, \"red\")"
   ]
  },
  {
   "cell_type": "code",
   "execution_count": null,
   "metadata": {
    "collapsed": true
   },
   "outputs": [],
   "source": [
    "describe_data(morning_data, \"red\")"
   ]
  },
  {
   "cell_type": "code",
   "execution_count": null,
   "metadata": {
    "collapsed": true
   },
   "outputs": [],
   "source": [
    "describe_data(afternoon_data, \"red\")"
   ]
  },
  {
   "cell_type": "code",
   "execution_count": null,
   "metadata": {
    "collapsed": true
   },
   "outputs": [],
   "source": []
  },
  {
   "cell_type": "code",
   "execution_count": null,
   "metadata": {
    "collapsed": true
   },
   "outputs": [],
   "source": [
    "plt.figure(figsize=(10, 12))\n",
    "plt.scatter(X_train['age'], y_train)\n",
    "plt.grid()"
   ]
  }
 ],
 "metadata": {
  "kernelspec": {
   "display_name": "Python 3",
   "language": "python",
   "name": "python3"
  },
  "language_info": {
   "codemirror_mode": {
    "name": "ipython",
    "version": 3
   },
   "file_extension": ".py",
   "mimetype": "text/x-python",
   "name": "python",
   "nbconvert_exporter": "python",
   "pygments_lexer": "ipython3",
   "version": "3.6.1"
  }
 },
 "nbformat": 4,
 "nbformat_minor": 2
}
