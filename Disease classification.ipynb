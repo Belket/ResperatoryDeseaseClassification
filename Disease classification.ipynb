{
 "cells": [
  {
   "cell_type": "code",
   "execution_count": 1,
   "metadata": {},
   "outputs": [],
   "source": [
    "import numpy as np\n",
    "import pandas as pd\n",
    "from scipy.spatial import distance, distance_matrix\n",
    "from sklearn.model_selection import train_test_split, GridSearchCV\n",
    "from sklearn.tree import DecisionTreeClassifier\n",
    "from sklearn.ensemble import RandomForestClassifier\n",
    "from sklearn.neighbors import KNeighborsClassifier\n",
    "from sklearn.svm import LinearSVC, SVC\n",
    "from sklearn.neural_network import MLPClassifier\n",
    "from sklearn.gaussian_process import GaussianProcessClassifier\n",
    "from sklearn.linear_model import LogisticRegression\n",
    "import matplotlib.pyplot as plt\n",
    "from collections import Counter\n",
    "from copy import deepcopy\n",
    "from sklearn.metrics.pairwise import euclidean_distances, cosine_distances\n",
    "from sklearn.feature_selection import SelectKBest, chi2, mutual_info_classif\n",
    "from sklearn.metrics import accuracy_score, roc_auc_score, f1_score\n",
    "import warnings\n",
    "warnings.filterwarnings('ignore')\n",
    "%matplotlib inline"
   ]
  },
  {
   "cell_type": "markdown",
   "metadata": {},
   "source": [
    "## Creation some help functions"
   ]
  },
  {
   "cell_type": "code",
   "execution_count": 2,
   "metadata": {},
   "outputs": [],
   "source": [
    "class Color:\n",
    "   PURPLE = '\\033[95m'\n",
    "   CYAN = '\\033[96m'\n",
    "   DARKCYAN = '\\033[36m'\n",
    "   BLUE = '\\033[94m'\n",
    "   GREEN = '\\033[92m'\n",
    "   YELLOW = '\\033[93m'\n",
    "   RED = '\\033[91m'\n",
    "   BOLD = '\\033[1m'\n",
    "   UNDERLINE = '\\033[4m'\n",
    "   END = '\\033[0m'\n",
    "\n",
    "    \n",
    "# function allows to print colorful and bold text\n",
    "def pretty_print(text=\"\", text_headers=\"\", color=\"\", bold=False):\n",
    "    bold_part = Color.BOLD if bold else \"\"\n",
    "    color_part = Color.__dict__.get(color.upper(), \"\")\n",
    "    print(bold_part + color_part + text_headers + Color.END + text)\n",
    "    \n"
   ]
  },
  {
   "cell_type": "markdown",
   "metadata": {},
   "source": [
    "## Data loading from scv files\n",
    "1. all_data - data of morning and afternoon datasets\n",
    "2. morning_data - data of morning dataset\n",
    "3. afternoon_data - data of afternoon dataset"
   ]
  },
  {
   "cell_type": "code",
   "execution_count": 3,
   "metadata": {},
   "outputs": [],
   "source": [
    "separator = ','\n",
    "all_data = pd.read_csv(\"all_data.csv\", sep=separator)\n",
    "morning_data = pd.read_csv(\"morning_data.csv\", sep=separator)\n",
    "afternoon_data =pd.read_csv(\"afternoon_data.csv\", sep=separator)\n",
    "datasets = [all_data, morning_data, afternoon_data]"
   ]
  },
  {
   "cell_type": "code",
   "execution_count": 4,
   "metadata": {},
   "outputs": [
    {
     "data": {
      "text/plain": [
       "array([[15],\n",
       "       [16],\n",
       "       [21],\n",
       "       [22],\n",
       "       [23],\n",
       "       [32],\n",
       "       [33],\n",
       "       [37],\n",
       "       [38]])"
      ]
     },
     "execution_count": 4,
     "metadata": {},
     "output_type": "execute_result"
    }
   ],
   "source": [
    "np.argwhere(np.sum(all_data.isnull()) != 0)"
   ]
  },
  {
   "cell_type": "code",
   "execution_count": 5,
   "metadata": {},
   "outputs": [
    {
     "data": {
      "text/plain": [
       "Index(['cid', 'patient_id', 'date1', 'age', 'gender', 'weight', 'height',\n",
       "       'cardiostimulator', 'smoking', 'diseasediabetes', 'diseasehypertonia',\n",
       "       'respiratory_disease', 'p_a', 'p_da', 'p_t', 'p_left_slopes',\n",
       "       'p_right_slopes', 'q_a', 'q_b_t', 'q_e_t', 'r_a', 'r_left_slopes',\n",
       "       'r_right_slopes', 'r_b_t', 'r_e_t', 's_a', 's_da', 's_b_t', 's_e_t',\n",
       "       't_a', 't_da', 't_t', 't_left_slopes', 't_right_slopes', 'interval_pq',\n",
       "       'komplex_qrs', 'segment_st', 'interval_qt', 'zubets_p', 'pulse', 'sdnn',\n",
       "       'skewness', 'amo', 'swai', 'mo', 'drr', 'rrnn', 'pnn50', 'si', 'sati',\n",
       "       'rmi', 'kurtosis', 'cv', 'rmssd', 'nn50', 'lf', 'lfhf', 'hfp', 'ulf',\n",
       "       'tp', 'vlf', 'vlfp', 'lfp', 'br', 'ulfp', 'ic', 'hf', 'tpfull', 'lfw',\n",
       "       'lfhfw', 'hfpw', 'ulfw', 'tpw', 'vlfw', 'vlfpw', 'lfpw', 'brw', 'ulfpw',\n",
       "       'icw', 'hfw', 'tpfullw'],\n",
       "      dtype='object')"
      ]
     },
     "execution_count": 5,
     "metadata": {},
     "output_type": "execute_result"
    }
   ],
   "source": [
    "all_data.columns"
   ]
  },
  {
   "cell_type": "markdown",
   "metadata": {},
   "source": [
    "## Data engineering"
   ]
  },
  {
   "cell_type": "code",
   "execution_count": 13,
   "metadata": {},
   "outputs": [],
   "source": []
  },
  {
   "cell_type": "markdown",
   "metadata": {},
   "source": [
    "## Description of all_data"
   ]
  },
  {
   "cell_type": "code",
   "execution_count": 14,
   "metadata": {},
   "outputs": [
    {
     "name": "stdout",
     "output_type": "stream",
     "text": [
      "\u001b[1m\u001b[91mFirst 5 strings of dataset\u001b[0m\n",
      "      cid  patient_id  age  gender  weight  height  cardiostimulator  smoking  \\\n",
      "0  110110       10177   65       1      81     178                 0        1   \n",
      "1  110114       10178   43       0      60     157                 0        0   \n",
      "2  110116       10180   73       0      92     156                 0        0   \n",
      "3  110177       10185   61       1      55     176                 0        1   \n",
      "4  110183       10187   63       1      65     178                 0        1   \n",
      "\n",
      "   diseasediabetes  diseasehypertonia  ...        vlfw     vlfpw      lfpw  \\\n",
      "0                1                  0  ...   25.077679  0.148477  0.355572   \n",
      "1                0                  0  ...    8.028726  0.142290  0.103802   \n",
      "2                0                  1  ...   30.364277  0.105113  0.121068   \n",
      "3                0                  0  ...  743.100100  0.578435  0.301847   \n",
      "4                0                  1  ...   42.380817  0.338698  0.270588   \n",
      "\n",
      "         brw     ulfpw       icw         hfw      tpfullw  index  \\\n",
      "0  27.021059  0.002390  5.735042   83.765680   169.302900      0   \n",
      "1  36.337080  0.001692  6.027903   42.539330    56.520554      1   \n",
      "2  19.768997  0.002450  8.513562  223.534840   289.580260      2   \n",
      "3  20.816826  0.008816  0.728802  153.798480  1295.998400      3   \n",
      "4  16.493526  0.003898  1.952481   48.889458   125.616260      4   \n",
      "\n",
      "                 date1  \n",
      "0  2019-07-01 12:38:39  \n",
      "1  2019-07-01 12:58:09  \n",
      "2  2019-07-01 13:09:18  \n",
      "3  2019-07-02 08:16:18  \n",
      "4  2019-07-02 09:46:21  \n",
      "\n",
      "[5 rows x 82 columns]\n",
      "\u001b[1m\u001b[91mNull values in data\u001b[0m\n",
      "cid           0\n",
      "patient_id    0\n",
      "age           0\n",
      "gender        0\n",
      "weight        0\n",
      "             ..\n",
      "icw           0\n",
      "hfw           0\n",
      "tpfullw       0\n",
      "index         0\n",
      "date1         0\n",
      "Length: 82, dtype: int64\n"
     ]
    }
   ],
   "source": [
    "research_data(all_data, \"red\", True)"
   ]
  },
  {
   "cell_type": "markdown",
   "metadata": {},
   "source": [
    "## Description of morning_data"
   ]
  },
  {
   "cell_type": "code",
   "execution_count": 15,
   "metadata": {},
   "outputs": [
    {
     "name": "stdout",
     "output_type": "stream",
     "text": [
      "\u001b[1m\u001b[91mFirst 5 strings of dataset\u001b[0m\n",
      "      cid  patient_id                date1  age  gender  weight  height  \\\n",
      "0  110177       10185  2019-07-02 08:16:18   61       1      55     176   \n",
      "1  110183       10187  2019-07-02 09:46:21   63       1      65     178   \n",
      "2  110255       10185  2019-07-03 07:21:29   61       1      55     176   \n",
      "3  110257       10187  2019-07-03 07:47:32   63       1      65     178   \n",
      "4  110259       10200  2019-07-03 08:13:23   27       0      75     160   \n",
      "\n",
      "   cardiostimulator  smoking  diseasediabetes  ...       ulfw          tpw  \\\n",
      "0                 0        1                0  ...  11.325395  1284.673100   \n",
      "1                 0        1                0  ...   0.487702   125.128555   \n",
      "2                 0        1                0  ...   0.663814   801.920530   \n",
      "3                 0        1                0  ...   2.142578  1226.863200   \n",
      "4                 0        0                0  ...   3.280306  3770.700700   \n",
      "\n",
      "         vlfw     vlfpw      lfpw        brw     ulfpw        icw         hfw  \\\n",
      "0  743.100100  0.578435  0.301847  20.816826  0.008816   0.728802  153.798480   \n",
      "1   42.380817  0.338698  0.270588  16.493526  0.003898   1.952481   48.889458   \n",
      "2  266.110570  0.331842  0.507579  24.101036  0.000828   2.013486  128.772140   \n",
      "3  171.805510  0.140036  0.157355  17.816809  0.001746   6.141000  862.004330   \n",
      "4  149.345610  0.039607  0.721158  10.724096  0.000870  24.248154  902.086060   \n",
      "\n",
      "      tpfullw  \n",
      "0  1295.99840  \n",
      "1   125.61626  \n",
      "2   802.58435  \n",
      "3  1229.00570  \n",
      "4  3773.98100  \n",
      "\n",
      "[5 rows x 81 columns]\n",
      "\u001b[1m\u001b[91mNull values in data\u001b[0m\n",
      "cid           0\n",
      "patient_id    0\n",
      "date1         0\n",
      "age           0\n",
      "gender        0\n",
      "             ..\n",
      "brw           0\n",
      "ulfpw         0\n",
      "icw           0\n",
      "hfw           0\n",
      "tpfullw       0\n",
      "Length: 81, dtype: int64\n"
     ]
    }
   ],
   "source": [
    "research_data(morning_data, \"red\", True)"
   ]
  },
  {
   "cell_type": "markdown",
   "metadata": {},
   "source": [
    "## Description of afternoon_data"
   ]
  },
  {
   "cell_type": "code",
   "execution_count": 13,
   "metadata": {},
   "outputs": [
    {
     "name": "stdout",
     "output_type": "stream",
     "text": [
      "\u001b[1m\u001b[91mFirst 5 strings of dataset\u001b[0m\n",
      "   patient_id     cid             date1  age  gender  weight  height  \\\n",
      "0       11470  117354  19.09.2019 12:39   89       0      54     154   \n",
      "1       11470  117734  23.09.2019 12:13   89       0      54     154   \n",
      "2       11470  117481  20.09.2019 13:04   89       0      54     154   \n",
      "3       11470  117892  24.09.2019 13:23   89       0      54     154   \n",
      "4       11470  117354  19.09.2019 12:39   89       0      54     154   \n",
      "\n",
      "   cardiostimulator  smoking  diseasediabetes      ...                   tpw  \\\n",
      "0                 0        0                1      ...        149,7740000000   \n",
      "1                 0        0                1      ...        223,9548000000   \n",
      "2                 0        0                1      ...        224,9972500000   \n",
      "3                 0        0                1      ...        206,7881500000   \n",
      "4                 0        0                1      ...        149,7740000000   \n",
      "\n",
      "            vlfw         vlfpw          lfpw            brw         ulfpw  \\\n",
      "0  45,4593960000  0,3035199300  0,2127534700  22,8272900000  0,0122966520   \n",
      "1  30,0106980000  0,1340033700  0,2951052200  18,6526490000  0,0053396120   \n",
      "2  77,6725600000  0,3452156200  0,2826718700  13,6406400000  0,0133937620   \n",
      "3  25,6403350000  0,1239932550  0,1259705300  20,7358420000  0,0011216338   \n",
      "4  45,4593960000  0,3035199300  0,2127534700  22,8272900000  0,0122966520   \n",
      "\n",
      "            icw             hfw         tpfullw cardio_desease  \n",
      "0  2,2946765000   72,4496700000  151,6157200000              1  \n",
      "1  6,4624990000  127,8538740000  225,1506300000              1  \n",
      "2  1,8967403000   83,7242900000  228,0108000000              1  \n",
      "3  7,0649548000  155,0986000000  207,0201000000              1  \n",
      "4  2,2946765000   72,4496700000  151,6157200000              0  \n",
      "\n",
      "[5 rows x 82 columns]\n",
      "\u001b[1m\u001b[91mNull values in data\u001b[0m\n",
      "patient_id                0\n",
      "cid                       0\n",
      "date1                     0\n",
      "age                       0\n",
      "gender                    0\n",
      "weight                    0\n",
      "height                    0\n",
      "cardiostimulator          0\n",
      "smoking                   0\n",
      "diseasediabetes           0\n",
      "diseasehypertonia         0\n",
      "respiratory_disease       0\n",
      "p_a                       0\n",
      "p_da                      0\n",
      "p_t                       0\n",
      "p_left_slopes           932\n",
      "p_right_slopes         1038\n",
      "q_a                       0\n",
      "q_b_t                     0\n",
      "q_e_t                     0\n",
      "r_a                       0\n",
      "r_left_slopes           900\n",
      "r_right_slopes          900\n",
      "r_b_t                     0\n",
      "r_e_t                     0\n",
      "s_a                       0\n",
      "s_da                      0\n",
      "s_b_t                     0\n",
      "s_e_t                     0\n",
      "t_a                       0\n",
      "                       ... \n",
      "cv                        0\n",
      "rmssd                     0\n",
      "nn50                      0\n",
      "lf                        0\n",
      "lfhf                      0\n",
      "hfp                       0\n",
      "ulf                       0\n",
      "tp                        0\n",
      "vlf                       0\n",
      "vlfp                      0\n",
      "lfp                       0\n",
      "br                        0\n",
      "ulfp                      0\n",
      "ic                        0\n",
      "hf                        0\n",
      "tpfull                    0\n",
      "lfw                       0\n",
      "lfhfw                     0\n",
      "hfpw                      0\n",
      "ulfw                      0\n",
      "tpw                       0\n",
      "vlfw                      0\n",
      "vlfpw                     0\n",
      "lfpw                      0\n",
      "brw                       0\n",
      "ulfpw                     0\n",
      "icw                       0\n",
      "hfw                       0\n",
      "tpfullw                   0\n",
      "cardio_desease            0\n",
      "Length: 82, dtype: int64\n"
     ]
    }
   ],
   "source": [
    "research_data(afternoon_data, \"red\", True)"
   ]
  },
  {
   "cell_type": "markdown",
   "metadata": {},
   "source": [
    "# Data Preprocessing"
   ]
  },
  {
   "cell_type": "code",
   "execution_count": 6,
   "metadata": {},
   "outputs": [],
   "source": [
    "# convert string data to appropriate format\n",
    "def string_preprocessing(string):\n",
    "        \n",
    "    def change_double_dot_floats(element):\n",
    "        counter = Counter(list(element))\n",
    "        if counter[\".\"] > 1:\n",
    "            second_dot_index = element.rfind(\".\")\n",
    "            element_list = list(element)\n",
    "            element_list[second_dot_index] = \"\"\n",
    "            element = ''.join(element_list)\n",
    "        return element  \n",
    "    \n",
    "    if not pd.isnull(string):\n",
    "        string = string.replace(\",\", \".\")\n",
    "        string = change_double_dot_floats(string)\n",
    "        string = int(string) if string in [\"0\", \"1\"] else float(string)\n",
    "    return string\n",
    "        \n",
    "def appropriate_strings(df_without_none, string_with_nan, distance_metrics):\n",
    "    most_appropriate_indexes = {}\n",
    "    for distance_metric in distance_metrics:\n",
    "        string_distances = distance_metric(string_with_nan.values.reshape(1, -1), df_without_none) \n",
    "        string_distances = string_distances.reshape(string_distances.shape[1],)\n",
    "        min_distance_string_index = np.where(string_distances == min(string_distances))[0][0]\n",
    "        most_appropriate_indexes.update({distance_metric.__name__: min_distance_string_index})\n",
    "    counter = Counter(most_appropriate_indexes.values())\n",
    "    return {\"appropriate_indexes\": most_appropriate_indexes, \"best_index\": counter.most_common(1)[0][0]}  "
   ]
  },
  {
   "cell_type": "code",
   "execution_count": 7,
   "metadata": {
    "slideshow": {
     "slide_type": "-"
    }
   },
   "outputs": [],
   "source": [
    "def replace_all_nan_by_values_from_closest_vector(df, distance_metrics):\n",
    "    # creation of dataset without nan values\n",
    "    df[\"index\"] = df.index  # create column which will duplicate indexes to drop and restore rows with nan\n",
    "    \n",
    "    columns_with_nan = [column for column in df.columns if np.sum(df[column].isnull()) != 0]  # find columns with nan\n",
    "    df_without_none = df.drop(df[columns_with_nan], axis=1)  # create dataset without columns with nan\n",
    "        \n",
    "    # finding list of all possible nan indexes and dict of column with nan and its indexes\n",
    "    all_nan_indexes = set()\n",
    "    for column_with_nan in columns_with_nan:\n",
    "        nan_indexes = set(sum(np.argwhere(pd.isnull(df[column_with_nan])).tolist(), []))\n",
    "        all_nan_indexes = all_nan_indexes.union(nan_indexes)\n",
    "    all_nan_indexes = list(all_nan_indexes)  # list of indexes of strings with nan\n",
    "    \n",
    "    strings_with_nan = {}  # dict with strings with nan to restore them after finding the closest one\n",
    "    for nan_index in all_nan_indexes:\n",
    "        strings_with_nan.update({nan_index: df_without_none.loc[nan_index]})     \n",
    "    df_without_none.drop(df_without_none.index[all_nan_indexes], inplace=True, axis=0)    \n",
    "    df_without_none.reset_index(inplace=True, drop=True)  # reset indexes in a row\n",
    "\n",
    "    # change nan values of original dataset\n",
    "    for nan_index in all_nan_indexes:\n",
    "        prepared_string = strings_with_nan[nan_index]  # take string with nan values to find the closest one\n",
    "        best_string_index = appropriate_strings(df_without_none, prepared_string, distance_metrics)[\"best_index\"]\n",
    "        string_with_nan = df.loc[nan_index]  # string in which nan values will be found and replaced \n",
    "        real_best_index = int(df_without_none.loc[best_string_index][\"index\"])  # index from original dataset \n",
    "        closest_string = df.loc[real_best_index]  # the closest string from dataset without nan strings\n",
    "        for column_with_nan in columns_with_nan:\n",
    "            if pd.isnull(string_with_nan[column_with_nan]):\n",
    "                df.loc[nan_index, column_with_nan] = closest_string[column_with_nan]  # set value"
   ]
  },
  {
   "cell_type": "code",
   "execution_count": 8,
   "metadata": {},
   "outputs": [],
   "source": [
    "def dataset_preprocessing(df, distance_metrics=[euclidean_distances]):\n",
    "    date_column = df.date1\n",
    "    df.drop([\"date1\"], inplace=True, axis=1)\n",
    "#     for column in df.columns:\n",
    "#         if type(df[column][0]) == str:\n",
    "#             try:\n",
    "#                 df[column] = df[column].apply(lambda x: string_preprocessing(x))\n",
    "#             except:\n",
    "#                 print(df[column])\n",
    "    \n",
    "    replace_all_nan_by_values_from_closest_vector(df, distance_metrics)\n",
    "    df[\"date1\"] = date_column"
   ]
  },
  {
   "cell_type": "code",
   "execution_count": null,
   "metadata": {},
   "outputs": [],
   "source": []
  },
  {
   "cell_type": "markdown",
   "metadata": {},
   "source": [
    "# Preprocessing of all_data"
   ]
  },
  {
   "cell_type": "code",
   "execution_count": 9,
   "metadata": {},
   "outputs": [],
   "source": [
    "dataset_preprocessing(all_data)"
   ]
  },
  {
   "cell_type": "markdown",
   "metadata": {},
   "source": [
    "# Researching of data and feature selection"
   ]
  },
  {
   "cell_type": "code",
   "execution_count": 10,
   "metadata": {},
   "outputs": [],
   "source": [
    "df = deepcopy(all_data)"
   ]
  },
  {
   "cell_type": "code",
   "execution_count": 11,
   "metadata": {},
   "outputs": [
    {
     "data": {
      "text/plain": [
       "array([], shape=(0, 1), dtype=int64)"
      ]
     },
     "execution_count": 11,
     "metadata": {},
     "output_type": "execute_result"
    }
   ],
   "source": [
    "np.argwhere(np.sum(df.isnull()) != 0)"
   ]
  },
  {
   "cell_type": "code",
   "execution_count": 64,
   "metadata": {},
   "outputs": [],
   "source": [
    "df_new = SelectKBest(mutual_info_classif, k=5).fit_transform(new_df, y)"
   ]
  },
  {
   "cell_type": "code",
   "execution_count": null,
   "metadata": {},
   "outputs": [],
   "source": []
  },
  {
   "cell_type": "code",
   "execution_count": null,
   "metadata": {},
   "outputs": [],
   "source": []
  },
  {
   "cell_type": "code",
   "execution_count": 58,
   "metadata": {},
   "outputs": [
    {
     "data": {
      "text/plain": [
       "{'interval_pq',\n",
       " 'komplex_qrs',\n",
       " 'kurtosis',\n",
       " 'p_a',\n",
       " 'p_da',\n",
       " 'p_left_slopes',\n",
       " 'p_right_slopes',\n",
       " 'q_a',\n",
       " 'r_a',\n",
       " 'r_left_slopes',\n",
       " 'r_right_slopes',\n",
       " 's_a',\n",
       " 's_da',\n",
       " 'segment_st',\n",
       " 'skewness',\n",
       " 't_a',\n",
       " 't_da',\n",
       " 't_left_slopes',\n",
       " 't_right_slopes'}"
      ]
     },
     "execution_count": 58,
     "metadata": {},
     "output_type": "execute_result"
    }
   ],
   "source": [
    "negative_columns = set()\n",
    "for column in df.columns: \n",
    "    for index in df.index:\n",
    "        if type(df[column][index]) != str and df[column][index] < 0:\n",
    "            negative_columns.add(column)\n",
    "            \n",
    "negative_columns"
   ]
  },
  {
   "cell_type": "code",
   "execution_count": null,
   "metadata": {},
   "outputs": [],
   "source": []
  },
  {
   "cell_type": "code",
   "execution_count": null,
   "metadata": {},
   "outputs": [],
   "source": [
    "S"
   ]
  },
  {
   "cell_type": "code",
   "execution_count": null,
   "metadata": {},
   "outputs": [],
   "source": []
  },
  {
   "cell_type": "markdown",
   "metadata": {},
   "source": [
    "# Models"
   ]
  },
  {
   "cell_type": "code",
   "execution_count": 11,
   "metadata": {},
   "outputs": [],
   "source": [
    "y = df[\"respiratory_disease\"]\n",
    "df.drop([\"respiratory_disease\", \"date1\"], inplace=True, axis=1)\n",
    "X_train, X_test, y_train, y_test = train_test_split(df, y, test_size=0.3)"
   ]
  },
  {
   "cell_type": "code",
   "execution_count": 13,
   "metadata": {},
   "outputs": [],
   "source": [
    "def use_model(X_train, X_test, y_train, y_test, model, parameters):\n",
    "    classifier = GridSearchCV(model, parameters)\n",
    "    classifier.fit(X_train, y_train)\n",
    "    sorted(clf.cv_results_.keys())"
   ]
  },
  {
   "cell_type": "markdown",
   "metadata": {},
   "source": [
    "### SVM"
   ]
  },
  {
   "cell_type": "code",
   "execution_count": null,
   "metadata": {},
   "outputs": [],
   "source": [
    "\n",
    "use_model(X_train, X_test, y_train, y_test, SVM(), parameters)"
   ]
  },
  {
   "cell_type": "markdown",
   "metadata": {},
   "source": [
    "### Logistic Regression"
   ]
  },
  {
   "cell_type": "code",
   "execution_count": null,
   "metadata": {},
   "outputs": [
    {
     "name": "stderr",
     "output_type": "stream",
     "text": [
      "/home/gleb/.local/lib/python3.7/site-packages/sklearn/model_selection/_split.py:1978: FutureWarning: The default value of cv will change from 3 to 5 in version 0.22. Specify it explicitly to silence this warning.\n",
      "  warnings.warn(CV_WARNING, FutureWarning)\n"
     ]
    }
   ],
   "source": [
    "parameters = {'kernel':('rbf',), 'C':[1, 10]}\n",
    "classifier = GridSearchCV(SVC(), parameters)\n",
    "classifier.fit(X_train, y_train)"
   ]
  },
  {
   "cell_type": "code",
   "execution_count": null,
   "metadata": {},
   "outputs": [],
   "source": []
  },
  {
   "cell_type": "code",
   "execution_count": null,
   "metadata": {},
   "outputs": [],
   "source": []
  },
  {
   "cell_type": "markdown",
   "metadata": {},
   "source": [
    "### Decision Tree"
   ]
  },
  {
   "cell_type": "code",
   "execution_count": null,
   "metadata": {},
   "outputs": [],
   "source": []
  },
  {
   "cell_type": "markdown",
   "metadata": {},
   "source": [
    "### RandomForest"
   ]
  },
  {
   "cell_type": "code",
   "execution_count": 70,
   "metadata": {},
   "outputs": [],
   "source": [
    "RFC = RandomForestClassifier()"
   ]
  },
  {
   "cell_type": "code",
   "execution_count": 71,
   "metadata": {},
   "outputs": [
    {
     "name": "stderr",
     "output_type": "stream",
     "text": [
      "C:\\ProgramData\\Anaconda3\\lib\\site-packages\\sklearn\\ensemble\\forest.py:246: FutureWarning: The default value of n_estimators will change from 10 in version 0.20 to 100 in 0.22.\n",
      "  \"10 in version 0.20 to 100 in 0.22.\", FutureWarning)\n"
     ]
    }
   ],
   "source": [
    "RFC.fit(X_train, y_train)\n",
    "y_hat = RFC.predict(X_test)"
   ]
  },
  {
   "cell_type": "code",
   "execution_count": 73,
   "metadata": {},
   "outputs": [
    {
     "data": {
      "text/plain": [
       "0.9976830398517145"
      ]
     },
     "execution_count": 73,
     "metadata": {},
     "output_type": "execute_result"
    }
   ],
   "source": [
    "f1_score(y_test, y_hat)"
   ]
  },
  {
   "cell_type": "code",
   "execution_count": null,
   "metadata": {},
   "outputs": [],
   "source": []
  }
 ],
 "metadata": {
  "celltoolbar": "Raw Cell Format",
  "kernelspec": {
   "display_name": "Python 3",
   "language": "python",
   "name": "python3"
  },
  "language_info": {
   "codemirror_mode": {
    "name": "ipython",
    "version": 3
   },
   "file_extension": ".py",
   "mimetype": "text/x-python",
   "name": "python",
   "nbconvert_exporter": "python",
   "pygments_lexer": "ipython3",
   "version": "3.7.3"
  }
 },
 "nbformat": 4,
 "nbformat_minor": 2
}
