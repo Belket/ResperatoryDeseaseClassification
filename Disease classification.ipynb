{
 "cells": [
  {
   "cell_type": "code",
   "execution_count": 1,
   "metadata": {
    "collapsed": true
   },
   "outputs": [],
   "source": [
    "import numpy as np\n",
    "import pandas as pd\n",
    "from scipy.spatial import distance, distance_matrix\n",
    "from sklearn.model_selection import train_test_split, GridSearchCV\n",
    "from sklearn.tree import DecisionTreeClassifier\n",
    "from sklearn.ensemble import RandomForestClassifier\n",
    "from sklearn.neighbors import KNeighborsClassifier\n",
    "from sklearn.svm import LinearSVC, SVC\n",
    "from sklearn.neural_network import MLPClassifier\n",
    "from sklearn.gaussian_process import GaussianProcessClassifier\n",
    "from sklearn.linear_model import LogisticRegression\n",
    "import matplotlib.pyplot as plt\n",
    "from collections import Counter\n",
    "from copy import deepcopy\n",
    "from sklearn.metrics.pairwise import euclidean_distances, cosine_distances\n",
    "from sklearn.metrics import accuracy_score, roc_auc_score, f1_score\n",
    "from threading import Thread\n",
    "\n",
    "import warnings\n",
    "warnings.filterwarnings('ignore')\n",
    "%matplotlib inline"
   ]
  },
  {
   "cell_type": "markdown",
   "metadata": {},
   "source": [
    "## Creation usefull instruments"
   ]
  },
  {
   "cell_type": "code",
   "execution_count": 2,
   "metadata": {
    "collapsed": true
   },
   "outputs": [],
   "source": [
    "class Color:\n",
    "   PURPLE = '\\033[95m'\n",
    "   CYAN = '\\033[96m'\n",
    "   DARKCYAN = '\\033[36m'\n",
    "   BLUE = '\\033[94m'\n",
    "   GREEN = '\\033[92m'\n",
    "   YELLOW = '\\033[93m'\n",
    "   RED = '\\033[91m'\n",
    "   BOLD = '\\033[1m'\n",
    "   UNDERLINE = '\\033[4m'\n",
    "   END = '\\033[0m'\n",
    "\n",
    "    \n",
    "# function allows to print colorful and bold text\n",
    "def pretty_print(text=\"\", text_headers=\"\", color=\"\", bold=False):\n",
    "    bold_part = Color.BOLD if bold else \"\"\n",
    "    color_part = Color.__dict__.get(color.upper(), \"\")\n",
    "    print(bold_part + color_part + text_headers + Color.END + text)\n"
   ]
  },
  {
   "cell_type": "code",
   "execution_count": 3,
   "metadata": {},
   "outputs": [],
   "source": [
    "class Result:\n",
    "    \n",
    "    def __init__(self, model_name, model_parameters, model_score, data_for_graphics):\n",
    "        self.__name = model_name\n",
    "        self.__parameters = model_parameters\n",
    "        self.__score = model_score\n",
    "        if len(data_for_graphics) == 3:\n",
    "            self.__X_test = data_for_graphics[0]\n",
    "            self.__y_test = data_for_graphics[1]\n",
    "            self.__y_hat = data_for_graphics[2]\n",
    "        else:\n",
    "            print(\"Model %s has no data for graphics\", model_name)\n",
    "            self.__X_test = None\n",
    "            self.__y_test = None\n",
    "            self.__y_hat = None\n",
    "        \n",
    "    def get_name(self):\n",
    "        return self.__name\n",
    "    \n",
    "    def get_parameters(self):\n",
    "        return self.__parameters\n",
    "    \n",
    "    def get_score(self):\n",
    "        return self.__score\n",
    "\n",
    "    def show_result_graphics(self):\n",
    "        X_test = self.__X_test\n",
    "        y_test = self.__y_test\n",
    "        y_hat = self.__y_hat\n",
    "        if  X_test is not None and y_test is not None and y_hat is not None:\n",
    "            plt.subplot(1, 2, 1)\n",
    "            plt.title(\"y_hat\")\n",
    "            plt.scatter(np.linspace(0, len(y_hat), len(y_hat)), y_hat, c='orange')\n",
    "            plt.subplot(1, 2, 2)\n",
    "            plt.title(\"y_test\")\n",
    "            plt.scatter(np.linspace(0, len(y_test), len(y_test)), y_test)\n",
    "    \n",
    "class Results:\n",
    "    \n",
    "    def __init__(self):\n",
    "        self.__results = {}\n",
    "        \n",
    "    def create_id(self):\n",
    "        new_key = 0\n",
    "        keys = self.__results.keys()\n",
    "        if keys:\n",
    "            new_key = max(self.__results.keys()) + 1\n",
    "        return new_key\n",
    "    \n",
    "    def add_result(self, model_name, model_parameters, model_score, data_for_graphics):\n",
    "        self.__results.update({model_name: Result(model_name, model_parameters, model_score, data_for_graphics)})\n",
    "        \n",
    "    def get_results(self, show_model_parameters=False):\n",
    "        results = {}\n",
    "        for key, result_object in self.__results.items():\n",
    "            model_info = {}\n",
    "            if show_model_parameters:\n",
    "                model_info[\"parameters\"] = result_object.get_parameters()\n",
    "            model_info[\"score\"] = result_object.get_score()\n",
    "            results.update({key: model_info})\n",
    "        return results\n",
    "    \n",
    "    def get_concrete_result(self, model_name):\n",
    "        return self.__results.get(model_name)"
   ]
  },
  {
   "cell_type": "markdown",
   "metadata": {},
   "source": [
    "## Data loading from scv files\n",
    "1. all_data - data of morning and afternoon datasets\n",
    "2. morning_data - data of morning dataset\n",
    "3. afternoon_data - data of afternoon dataset"
   ]
  },
  {
   "cell_type": "code",
   "execution_count": 4,
   "metadata": {},
   "outputs": [],
   "source": [
    "separator = ','\n",
    "all_data = pd.read_csv(\"all_data_preprocessed_filtering.csv\", sep=separator)\n",
    "morning_data = pd.read_csv(\"morning_data.csv\", sep=separator)\n",
    "afternoon_data =pd.read_csv(\"afternoon_data.csv\", sep=separator)\n",
    "datasets = [all_data, morning_data, afternoon_data]"
   ]
  },
  {
   "cell_type": "code",
   "execution_count": 5,
   "metadata": {},
   "outputs": [
    {
     "data": {
      "text/html": [
       "<div>\n",
       "<style>\n",
       "    .dataframe thead tr:only-child th {\n",
       "        text-align: right;\n",
       "    }\n",
       "\n",
       "    .dataframe thead th {\n",
       "        text-align: left;\n",
       "    }\n",
       "\n",
       "    .dataframe tbody tr th {\n",
       "        vertical-align: top;\n",
       "    }\n",
       "</style>\n",
       "<table border=\"1\" class=\"dataframe\">\n",
       "  <thead>\n",
       "    <tr style=\"text-align: right;\">\n",
       "      <th></th>\n",
       "      <th>age</th>\n",
       "      <th>gender</th>\n",
       "      <th>weight</th>\n",
       "      <th>smoking</th>\n",
       "      <th>diseasehypertonia</th>\n",
       "      <th>respiratory_disease</th>\n",
       "      <th>p_a</th>\n",
       "      <th>p_da</th>\n",
       "      <th>t_right_slopes</th>\n",
       "      <th>interval_pq</th>\n",
       "      <th>kurtosis</th>\n",
       "      <th>nn50</th>\n",
       "      <th>lfp</th>\n",
       "      <th>br</th>\n",
       "    </tr>\n",
       "  </thead>\n",
       "  <tbody>\n",
       "    <tr>\n",
       "      <th>0</th>\n",
       "      <td>65</td>\n",
       "      <td>1</td>\n",
       "      <td>81</td>\n",
       "      <td>1</td>\n",
       "      <td>0</td>\n",
       "      <td>0</td>\n",
       "      <td>0.008323</td>\n",
       "      <td>0.000011</td>\n",
       "      <td>-0.000266</td>\n",
       "      <td>-0.149</td>\n",
       "      <td>1.183951</td>\n",
       "      <td>0</td>\n",
       "      <td>0.416088</td>\n",
       "      <td>31.292105</td>\n",
       "    </tr>\n",
       "    <tr>\n",
       "      <th>1</th>\n",
       "      <td>43</td>\n",
       "      <td>0</td>\n",
       "      <td>60</td>\n",
       "      <td>0</td>\n",
       "      <td>0</td>\n",
       "      <td>0</td>\n",
       "      <td>0.007437</td>\n",
       "      <td>0.000032</td>\n",
       "      <td>-0.000282</td>\n",
       "      <td>-0.054</td>\n",
       "      <td>0.573783</td>\n",
       "      <td>0</td>\n",
       "      <td>0.123064</td>\n",
       "      <td>36.408043</td>\n",
       "    </tr>\n",
       "    <tr>\n",
       "      <th>2</th>\n",
       "      <td>73</td>\n",
       "      <td>0</td>\n",
       "      <td>92</td>\n",
       "      <td>0</td>\n",
       "      <td>1</td>\n",
       "      <td>0</td>\n",
       "      <td>0.009876</td>\n",
       "      <td>0.000015</td>\n",
       "      <td>-0.000392</td>\n",
       "      <td>-0.091</td>\n",
       "      <td>0.321415</td>\n",
       "      <td>0</td>\n",
       "      <td>0.119404</td>\n",
       "      <td>19.919365</td>\n",
       "    </tr>\n",
       "    <tr>\n",
       "      <th>3</th>\n",
       "      <td>61</td>\n",
       "      <td>1</td>\n",
       "      <td>55</td>\n",
       "      <td>1</td>\n",
       "      <td>0</td>\n",
       "      <td>1</td>\n",
       "      <td>0.007188</td>\n",
       "      <td>0.000004</td>\n",
       "      <td>-0.000426</td>\n",
       "      <td>-0.079</td>\n",
       "      <td>0.205573</td>\n",
       "      <td>0</td>\n",
       "      <td>0.326354</td>\n",
       "      <td>20.744604</td>\n",
       "    </tr>\n",
       "    <tr>\n",
       "      <th>4</th>\n",
       "      <td>63</td>\n",
       "      <td>1</td>\n",
       "      <td>65</td>\n",
       "      <td>1</td>\n",
       "      <td>1</td>\n",
       "      <td>1</td>\n",
       "      <td>0.007358</td>\n",
       "      <td>-0.000011</td>\n",
       "      <td>-0.000370</td>\n",
       "      <td>-0.069</td>\n",
       "      <td>-0.389226</td>\n",
       "      <td>0</td>\n",
       "      <td>0.222550</td>\n",
       "      <td>17.599829</td>\n",
       "    </tr>\n",
       "  </tbody>\n",
       "</table>\n",
       "</div>"
      ],
      "text/plain": [
       "   age  gender  weight  smoking  diseasehypertonia  respiratory_disease  \\\n",
       "0   65       1      81        1                  0                    0   \n",
       "1   43       0      60        0                  0                    0   \n",
       "2   73       0      92        0                  1                    0   \n",
       "3   61       1      55        1                  0                    1   \n",
       "4   63       1      65        1                  1                    1   \n",
       "\n",
       "        p_a      p_da  t_right_slopes  interval_pq  kurtosis  nn50       lfp  \\\n",
       "0  0.008323  0.000011       -0.000266       -0.149  1.183951     0  0.416088   \n",
       "1  0.007437  0.000032       -0.000282       -0.054  0.573783     0  0.123064   \n",
       "2  0.009876  0.000015       -0.000392       -0.091  0.321415     0  0.119404   \n",
       "3  0.007188  0.000004       -0.000426       -0.079  0.205573     0  0.326354   \n",
       "4  0.007358 -0.000011       -0.000370       -0.069 -0.389226     0  0.222550   \n",
       "\n",
       "          br  \n",
       "0  31.292105  \n",
       "1  36.408043  \n",
       "2  19.919365  \n",
       "3  20.744604  \n",
       "4  17.599829  "
      ]
     },
     "execution_count": 5,
     "metadata": {},
     "output_type": "execute_result"
    }
   ],
   "source": [
    "all_data.head()"
   ]
  },
  {
   "cell_type": "markdown",
   "metadata": {},
   "source": [
    "## Models"
   ]
  },
  {
   "cell_type": "code",
   "execution_count": 6,
   "metadata": {},
   "outputs": [],
   "source": [
    "test_size = 0.3\n",
    "data = deepcopy(all_data)\n",
    "LGR_basic = [data, test_size, LogisticRegression(), \"LogisticRegression_basic\"]\n",
    "DTC_basic = [data, test_size, DecisionTreeClassifier(), \"DecisionTreeClassifier_basic\"]\n",
    "SVC_basic = [data, test_size, SVC(), \"SVC_basic\"]\n",
    "KNC_basic = [data, test_size, KNeighborsClassifier(), \"KNeighborsClassifier_basic\"]\n",
    "RFC_basic = [data, test_size, RandomForestClassifier(), \"RandomForestClassifier_basic\"]\n",
    "LSVC_basic = [data, test_size, LinearSVC(), \"LinearSVC_basic\"]\n",
    "\n",
    "results = Results()  # object for saving results\n",
    "models = [LGR_basic, DTC_basic, SVC_basic, KNC_basic, RFC_basic, LSVC_basic]"
   ]
  },
  {
   "cell_type": "code",
   "execution_count": 7,
   "metadata": {
    "collapsed": true
   },
   "outputs": [],
   "source": [
    "def use_model(df, test_size, model_object, model_saving_name, parameters=None):\n",
    "    def model_function(df, test_size, model_object, model_saving_name, parameters=None):\n",
    "        data = deepcopy(df)\n",
    "        y = data['respiratory_disease']\n",
    "        X = data.drop(['respiratory_disease'], axis=1)\n",
    "        X_train, X_test, y_train, y_test = train_test_split(X, y, test_size=test_size)  # sharing dataset on train and test\n",
    "        if not parameters:\n",
    "            model_object.fit(X_train, y_train)\n",
    "            y_hat = model_object.predict(X_test)\n",
    "            model_score = accuracy_score(y_hat, y_test)\n",
    "            data_for_graphics = [X_test, y_test, y_hat]\n",
    "            results.add_result(model_saving_name, model_object.get_params(), model_score, data_for_graphics)\n",
    "            \n",
    "    model_thread = Thread(target=model_function, args=[df, test_size, model_object, model_saving_name, parameters])\n",
    "    model_thread.start()"
   ]
  },
  {
   "cell_type": "code",
   "execution_count": 8,
   "metadata": {
    "collapsed": true
   },
   "outputs": [],
   "source": [
    "for model in models:\n",
    "    use_model(*model)"
   ]
  },
  {
   "cell_type": "code",
   "execution_count": 9,
   "metadata": {},
   "outputs": [
    {
     "data": {
      "text/plain": [
       "{'DecisionTreeClassifier_basic': {'score': 0.9044585987261147},\n",
       " 'KNeighborsClassifier_basic': {'score': 0.9378980891719745},\n",
       " 'LinearSVC_basic': {'score': 0.9140127388535032},\n",
       " 'LogisticRegression_basic': {'score': 0.928343949044586},\n",
       " 'RandomForestClassifier_basic': {'score': 0.928343949044586},\n",
       " 'SVC_basic': {'score': 0.9378980891719745}}"
      ]
     },
     "execution_count": 9,
     "metadata": {},
     "output_type": "execute_result"
    }
   ],
   "source": [
    "results.get_results()"
   ]
  },
  {
   "cell_type": "markdown",
   "metadata": {},
   "source": [
    "### DecisionTreeClassifier_basic"
   ]
  },
  {
   "cell_type": "code",
   "execution_count": 10,
   "metadata": {},
   "outputs": [
    {
     "name": "stdout",
     "output_type": "stream",
     "text": [
      "Total score of model is: 0.9044585987261147\n"
     ]
    },
    {
     "data": {
      "image/png": "[encoded data removed]",
      "text/plain": [
       "<matplotlib.figure.Figure at 0x33ea7724a8>"
      ]
     },
     "metadata": {},
     "output_type": "display_data"
    }
   ],
   "source": [
    "result_object = results.get_concrete_result('DecisionTreeClassifier_basic')\n",
    "result_object.show_result_graphics()\n",
    "print(\"Total score of model is:\", result_object.get_score())"
   ]
  },
  {
   "cell_type": "markdown",
   "metadata": {},
   "source": [
    "### KNeighborsClassifier_basic"
   ]
  },
  {
   "cell_type": "code",
   "execution_count": 11,
   "metadata": {},
   "outputs": [
    {
     "name": "stdout",
     "output_type": "stream",
     "text": [
      "Total score of model is: 0.9378980891719745\n"
     ]
    },
    {
     "data": {
      "image/png": "[encoded data removed]",
      "text/plain": [
       "<matplotlib.figure.Figure at 0x33ea80c978>"
      ]
     },
     "metadata": {},
     "output_type": "display_data"
    }
   ],
   "source": [
    "result_object = results.get_concrete_result('KNeighborsClassifier_basic')\n",
    "result_object.show_result_graphics()\n",
    "print(\"Total score of model is:\", result_object.get_score())"
   ]
  },
  {
   "cell_type": "markdown",
   "metadata": {},
   "source": [
    "### LinearSVC_basic"
   ]
  },
  {
   "cell_type": "code",
   "execution_count": 12,
   "metadata": {},
   "outputs": [
    {
     "name": "stdout",
     "output_type": "stream",
     "text": [
      "Total score of model is: 0.9140127388535032\n"
     ]
    },
    {
     "data": {
      "image/png": "[encoded data removed]",
      "text/plain": [
       "<matplotlib.figure.Figure at 0x33ea7d59e8>"
      ]
     },
     "metadata": {},
     "output_type": "display_data"
    }
   ],
   "source": [
    "result_object = results.get_concrete_result('LinearSVC_basic')\n",
    "result_object.show_result_graphics()\n",
    "print(\"Total score of model is:\", result_object.get_score())"
   ]
  },
  {
   "cell_type": "markdown",
   "metadata": {},
   "source": [
    "### LogisticRegression_basic"
   ]
  },
  {
   "cell_type": "code",
   "execution_count": 13,
   "metadata": {},
   "outputs": [
    {
     "name": "stdout",
     "output_type": "stream",
     "text": [
      "Total score of model is: 0.928343949044586\n"
     ]
    },
    {
     "data": {
      "image/png": "[encoded data removed]",
      "text/plain": [
       "<matplotlib.figure.Figure at 0x33ea8d7828>"
      ]
     },
     "metadata": {},
     "output_type": "display_data"
    }
   ],
   "source": [
    "result_object = results.get_concrete_result('LogisticRegression_basic')\n",
    "result_object.show_result_graphics()\n",
    "print(\"Total score of model is:\", result_object.get_score())"
   ]
  },
  {
   "cell_type": "markdown",
   "metadata": {},
   "source": [
    "### RandomForestClassifier_basic"
   ]
  },
  {
   "cell_type": "code",
   "execution_count": 14,
   "metadata": {},
   "outputs": [
    {
     "name": "stdout",
     "output_type": "stream",
     "text": [
      "Total score of model is: 0.928343949044586\n"
     ]
    },
    {
     "data": {
      "image/png": "[encoded data removed]",
      "text/plain": [
       "<matplotlib.figure.Figure at 0x33ea992240>"
      ]
     },
     "metadata": {},
     "output_type": "display_data"
    }
   ],
   "source": [
    "result_object = results.get_concrete_result('RandomForestClassifier_basic')\n",
    "result_object.show_result_graphics()\n",
    "print(\"Total score of model is:\", result_object.get_score())"
   ]
  },
  {
   "cell_type": "markdown",
   "metadata": {},
   "source": [
    "### SVC_basic"
   ]
  },
  {
   "cell_type": "code",
   "execution_count": 15,
   "metadata": {},
   "outputs": [
    {
     "name": "stdout",
     "output_type": "stream",
     "text": [
      "Total score of model is: 0.9378980891719745\n"
     ]
    },
    {
     "data": {
      "image/png": "[encoded data removed]",
      "text/plain": [
       "<matplotlib.figure.Figure at 0x33eaa28c50>"
      ]
     },
     "metadata": {},
     "output_type": "display_data"
    }
   ],
   "source": [
    "result_object = results.get_concrete_result('SVC_basic')\n",
    "result_object.show_result_graphics()\n",
    "print(\"Total score of model is:\", result_object.get_score())"
   ]
  },
  {
   "cell_type": "markdown",
   "metadata": {},
   "source": [
    "### Logistic Regression GSCV"
   ]
  },
  {
   "cell_type": "code",
   "execution_count": 13,
   "metadata": {},
   "outputs": [
    {
     "data": {
      "text/plain": [
       "GridSearchCV(cv=None, error_score='raise',\n",
       "       estimator=SVC(C=1.0, cache_size=200, class_weight=None, coef0=0.0,\n",
       "  decision_function_shape='ovr', degree=3, gamma='auto', kernel='rbf',\n",
       "  max_iter=-1, probability=False, random_state=None, shrinking=True,\n",
       "  tol=0.001, verbose=False),\n",
       "       fit_params=None, iid=True, n_jobs=1,\n",
       "       param_grid={'kernel': ('rbf', 'sigmoid'), 'C': [1, 10]},\n",
       "       pre_dispatch='2*n_jobs', refit=True, return_train_score=True,\n",
       "       scoring=None, verbose=0)"
      ]
     },
     "execution_count": 13,
     "metadata": {},
     "output_type": "execute_result"
    }
   ],
   "source": [
    "data = deepcopy(all_data)\n",
    "y = data['respiratory_disease']\n",
    "X = data.drop(['respiratory_disease'], axis=1)\n",
    "X_train, X_test, y_train, y_test = train_test_split(X, y, test_size=test_size)  # sharing dataset on train and test\n",
    "\n",
    "\n",
    "\n",
    "parameters = {'kernel':('rbf', 'sigmoid'), 'C':[1, 10]}\n",
    "classifier = GridSearchCV(SVC(), parameters)\n",
    "classifier.fit(X_train, y_train)"
   ]
  },
  {
   "cell_type": "code",
   "execution_count": null,
   "metadata": {
    "collapsed": true
   },
   "outputs": [],
   "source": []
  },
  {
   "cell_type": "code",
   "execution_count": null,
   "metadata": {
    "collapsed": true
   },
   "outputs": [],
   "source": []
  },
  {
   "cell_type": "code",
   "execution_count": null,
   "metadata": {
    "collapsed": true
   },
   "outputs": [],
   "source": []
  },
  {
   "cell_type": "code",
   "execution_count": null,
   "metadata": {
    "collapsed": true
   },
   "outputs": [],
   "source": []
  }
 ],
 "metadata": {
  "celltoolbar": "Raw Cell Format",
  "kernelspec": {
   "display_name": "Python 3",
   "language": "python",
   "name": "python3"
  },
  "language_info": {
   "codemirror_mode": {
    "name": "ipython",
    "version": 3
   },
   "file_extension": ".py",
   "mimetype": "text/x-python",
   "name": "python",
   "nbconvert_exporter": "python",
   "pygments_lexer": "ipython3",
   "version": "3.6.1"
  }
 },
 "nbformat": 4,
 "nbformat_minor": 2
}
