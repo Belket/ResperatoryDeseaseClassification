{
 "cells": [
  {
   "cell_type": "code",
   "execution_count": 1,
   "metadata": {
    "collapsed": true
   },
   "outputs": [],
   "source": [
    "import numpy as np\n",
    "import pandas as pd\n",
    "from scipy.spatial import distance, distance_matrix\n",
    "from sklearn.model_selection import train_test_split, GridSearchCV, KFold, LeaveOneOut\n",
    "from sklearn.tree import DecisionTreeClassifier, export_graphviz\n",
    "from sklearn.ensemble import RandomForestClassifier\n",
    "from sklearn.neighbors import KNeighborsClassifier\n",
    "from sklearn.gaussian_process import GaussianProcessClassifier\n",
    "from sklearn.linear_model import LogisticRegression\n",
    "from sklearn.svm import LinearSVC, SVC\n",
    "from sklearn.neural_network import MLPClassifier\n",
    "from sklearn.utils import resample\n",
    "import matplotlib.pyplot as plt\n",
    "from collections import Counter\n",
    "from copy import deepcopy\n",
    "from sklearn.metrics.pairwise import euclidean_distances, cosine_distances\n",
    "from sklearn.metrics import accuracy_score, precision_score, recall_score, f1_score, roc_auc_score, classification_report\n",
    "from threading import Thread\n",
    "from tqdm import tqdm\n",
    "import warnings\n",
    "warnings.filterwarnings('ignore')\n",
    "%matplotlib inline"
   ]
  },
  {
   "cell_type": "markdown",
   "metadata": {},
   "source": [
    "## Creation usefull instruments"
   ]
  },
  {
   "cell_type": "code",
   "execution_count": 2,
   "metadata": {
    "collapsed": true
   },
   "outputs": [],
   "source": [
    "class Result:\n",
    "    \n",
    "    def __init__(self, model_name, model_parameters, model_score, data_for_graphics):\n",
    "        self.__name = model_name\n",
    "        self.__parameters = model_parameters\n",
    "        self.__score = model_score\n",
    "        if len(data_for_graphics) == 3:\n",
    "            self.__X_test = data_for_graphics[0]\n",
    "            self.__y_test = data_for_graphics[1]\n",
    "            self.__y_hat = data_for_graphics[2]\n",
    "        else:\n",
    "            self.__X_test = None\n",
    "            self.__y_test = None\n",
    "            self.__y_hat = None\n",
    "\n",
    "        \n",
    "    def get_name(self):\n",
    "        return self.__name\n",
    "    \n",
    "    def get_parameters(self):\n",
    "        return self.__parameters\n",
    "    \n",
    "    def get_score(self):\n",
    "        return self.__score\n",
    "\n",
    "    def show_result_graphics(self):\n",
    "        X_test = self.__X_test\n",
    "        y_test = self.__y_test\n",
    "        y_hat = self.__y_hat\n",
    "        if  X_test is not None and y_test is not None and y_hat is not None:\n",
    "            plt.subplot(1, 2, 1)\n",
    "            plt.title(\"y_hat\")\n",
    "            plt.scatter(np.linspace(0, len(y_hat), len(y_hat)), y_hat, c='orange')\n",
    "            plt.subplot(1, 2, 2)\n",
    "            plt.title(\"y_test\")\n",
    "            plt.scatter(np.linspace(0, len(y_test), len(y_test)), y_test)\n",
    "    \n",
    "    def classification_report(self):\n",
    "        print(self.__name)\n",
    "        print(classification_report(self.__y_hat, self.__y_test))\n",
    "    \n",
    "class Results:\n",
    "    \n",
    "    def __init__(self):\n",
    "        self.__results = {}\n",
    "        \n",
    "    def create_id(self):\n",
    "        new_key = 0\n",
    "        keys = self.__results.keys()\n",
    "        if keys:\n",
    "            new_key = max(self.__results.keys()) + 1\n",
    "        return new_key\n",
    "    \n",
    "    def add_result(self, model_name, model_parameters, model_score, data_for_graphics):\n",
    "        self.__results.update({model_name: Result(model_name, model_parameters, model_score, data_for_graphics)})\n",
    "        \n",
    "    def get_scores(self, show_model_parameters=False):\n",
    "        results = {}\n",
    "        result_dataframe_index = self.__results.keys()\n",
    "        result_dataframe_columns = [\"accuracy\", \"precision\", \"recall\", \"f_score\"]\n",
    "        result_df = pd.DataFrame(index=result_dataframe_index, columns=result_dataframe_columns)\n",
    "\n",
    "        for key, result_object in self.__results.items():\n",
    "            model_scores = result_object.get_score()\n",
    "            result_df.loc[key][\"accuracy\"] = model_scores.get(\"accuracy\")\n",
    "            result_df.loc[key][\"precision\"] = model_scores.get(\"precision\")\n",
    "            result_df.loc[key][\"recall\"] = model_scores.get(\"recall\")\n",
    "            result_df.loc[key][\"f_score\"] = model_scores.get(\"f_score\")\n",
    "            result_df.loc[key][\"parameters\"] = result_object.get_parameters()\n",
    " \n",
    "        return result_df\n",
    "    \n",
    "    def get_results(self):\n",
    "        return self.__results\n",
    "    \n",
    "    def get_concrete_result(self, model_name):\n",
    "        return self.__results.get(model_name)"
   ]
  },
  {
   "cell_type": "markdown",
   "metadata": {},
   "source": [
    "## Data loading from scv files\n",
    "1. all_data - data of morning and afternoon datasets\n",
    "2. morning_data - data of morning dataset\n",
    "3. afternoon_data - data of afternoon dataset"
   ]
  },
  {
   "cell_type": "code",
   "execution_count": 3,
   "metadata": {
    "collapsed": true
   },
   "outputs": [],
   "source": [
    "separator = ','\n",
    "all_data = pd.read_csv(\"all_data_preprocessed_filtering.csv\", sep=separator)\n",
    "morning_data = pd.read_csv(\"morning_data.csv\", sep=separator)\n",
    "afternoon_data =pd.read_csv(\"afternoon_data.csv\", sep=separator)\n",
    "datasets = [all_data, morning_data, afternoon_data]"
   ]
  },
  {
   "cell_type": "markdown",
   "metadata": {},
   "source": [
    "## Class balancing"
   ]
  },
  {
   "cell_type": "markdown",
   "metadata": {},
   "source": [
    "### Oversampling"
   ]
  },
  {
   "cell_type": "code",
   "execution_count": 4,
   "metadata": {
    "collapsed": true
   },
   "outputs": [],
   "source": [
    "df = deepcopy(all_data)\n",
    "df_major = df[df.respiratory_disease == 1]\n",
    "df_minor = df[df.respiratory_disease == 0]\n",
    "df_minor_upsampled = resample(df_minor, replace=True, n_samples=df_major.shape[0])\n",
    "df_oversampled = pd.concat([df_major, df_minor_upsampled])"
   ]
  },
  {
   "cell_type": "markdown",
   "metadata": {},
   "source": [
    "### Undersampling"
   ]
  },
  {
   "cell_type": "code",
   "execution_count": 5,
   "metadata": {
    "collapsed": true
   },
   "outputs": [],
   "source": [
    "df = deepcopy(all_data)\n",
    "df_major = df[df.respiratory_disease == 1]\n",
    "df_minor = df[df.respiratory_disease == 0]\n",
    "df_major_downsampled = resample(df_major, replace=True, n_samples=df_minor.shape[0])\n",
    "df_undersampled = pd.concat([df_minor, df_major_downsampled])"
   ]
  },
  {
   "cell_type": "markdown",
   "metadata": {},
   "source": [
    "## Function for process"
   ]
  },
  {
   "cell_type": "code",
   "execution_count": 6,
   "metadata": {
    "collapsed": true
   },
   "outputs": [],
   "source": [
    "# function for creation data for model fitting process\n",
    "def create_models_data(results_collector, df, models_data, test_size=0.3):\n",
    "    models = []\n",
    "    for model_data in models_data:\n",
    "        dataframe_info = [results_collector, df, test_size]\n",
    "        dataframe_info.extend(model_data)\n",
    "        models.append(dataframe_info)\n",
    "    return models\n",
    "\n",
    "# classification report in dict view\n",
    "def classification_scores(y_hat, y_test):\n",
    "    scores = {}\n",
    "    scores[\"accuracy\"] = accuracy_score(y_hat, y_test)\n",
    "    scores[\"precision\"] = precision_score(y_hat, y_test)\n",
    "    scores[\"recall\"] = recall_score(y_hat, y_test)\n",
    "    scores[\"f_score\"] = f1_score(y_hat, y_test)\n",
    "    return scores"
   ]
  },
  {
   "cell_type": "code",
   "execution_count": 7,
   "metadata": {
    "collapsed": true
   },
   "outputs": [],
   "source": [
    "def basic_model(r_collector, df, test_size, model_object, model_saving_name):\n",
    "    results = r_collector\n",
    "    def model_function(df, test_size, model_object, model_saving_name):\n",
    "        data = deepcopy(df)\n",
    "        y = data['respiratory_disease']\n",
    "        X = data.drop(['respiratory_disease'], axis=1)\n",
    "        X_train, X_test, y_train, y_test = train_test_split(X, y, test_size=test_size)  \n",
    "        model_object.fit(X_train, y_train)\n",
    "        y_hat = model_object.predict(X_test)\n",
    "        model_score = classification_scores(y_hat, y_test)\n",
    "        data_for_graphics = [X_test, y_test, y_hat]\n",
    "        results.add_result(model_saving_name, model_object.get_params(), model_score, data_for_graphics)\n",
    "\n",
    "    model_thread = Thread(target=model_function, args=[df, test_size, model_object, model_saving_name])\n",
    "    model_thread.start()\n",
    "\n",
    "def GSCV_model(r_collector, df, test_size, model_object, model_saving_name, parameters):\n",
    "    def model_function(df, test_size, model_object, model_saving_name, parameters):\n",
    "        results = r_collector\n",
    "        data = deepcopy(df)\n",
    "        y = data['respiratory_disease']\n",
    "        X = data.drop(['respiratory_disease'], axis=1)\n",
    "        X_train, X_test, y_train, y_test = train_test_split(X, y, test_size=test_size)  \n",
    "        classifier = GridSearchCV(model_object, parameters)\n",
    "        classifier.fit(X_train, y_train)\n",
    "        model_object = classifier.best_estimator_\n",
    "        model_object.fit(X_train, y_train)\n",
    "        y_hat = model_object.predict(X_test)\n",
    "        model_score = classification_scores(y_hat, y_test)\n",
    "        data_for_graphics = [X_test, y_test, y_hat]\n",
    "        results.add_result(model_saving_name, model_object.get_params(), model_score, data_for_graphics)\n",
    "\n",
    "    model_thread = Thread(target=model_function, args=[df, test_size, model_object, model_saving_name, parameters])\n",
    "    model_thread.start()\n",
    "        \n",
    "def KFOLD_model(r_collector, df, test_size, model_object, model_saving_name, n_splits=2, shuffle=False, random_state=None):\n",
    "    def model_function(df, test_size, model_object, model_saving_name, n_splits, shuffle=shuffle, random_state=None):\n",
    "        results = r_collector\n",
    "        data = deepcopy(df)\n",
    "        y = data['respiratory_disease']\n",
    "        X = data.drop(['respiratory_disease'], axis=1)\n",
    "        accuracies = []\n",
    "        recalls = []\n",
    "        precisions = []\n",
    "        f_scores = []\n",
    "        kf = KFold(n_splits=n_splits, shuffle=shuffle, random_state=random_state)\n",
    "\n",
    "        for train_index, test_index in kf.split(X):\n",
    "            X_train, X_test = X.iloc[train_index], X.iloc[test_index]\n",
    "            y_train, y_test = y.iloc[train_index], y.iloc[test_index]\n",
    "\n",
    "            model_object.fit(X_train, y_train)\n",
    "            y_hat = model_object.predict(X_test)\n",
    "            model_score = classification_scores(y_hat, y_test)\n",
    "            accuracies.append(model_score.get(\"accuracy\"))\n",
    "            recalls.append(model_score.get(\"recall\"))\n",
    "            precisions.append(model_score.get(\"precision\"))\n",
    "            f_scores.append(model_score.get(\"f_score\"))\n",
    "\n",
    "        model_score = {\"accuracy\": np.mean(accuracies),\n",
    "                       \"precision\": np.mean(precisions),\n",
    "                       \"recall\": np.mean(recalls),\n",
    "                       \"f_score\": np.mean(f_scores)}     \n",
    "            \n",
    "        data_for_graphics = []\n",
    "        results.add_result(model_saving_name, model_object.get_params(), model_score, data_for_graphics)\n",
    "\n",
    "    model_thread = Thread(target=model_function, args=[df, test_size, model_object, model_saving_name, n_splits, shuffle, random_state])\n",
    "    model_thread.start()"
   ]
  },
  {
   "cell_type": "markdown",
   "metadata": {},
   "source": [
    "## Models list"
   ]
  },
  {
   "cell_type": "code",
   "execution_count": 8,
   "metadata": {
    "collapsed": true
   },
   "outputs": [],
   "source": [
    "LGR_basic = [LogisticRegression(), \"LogisticRegression_basic\"]\n",
    "DTC_basic = [DecisionTreeClassifier(), \"DecisionTreeClassifier_basic\"]\n",
    "SVC_basic = [SVC(), \"SVC_basic\"]\n",
    "KNC_basic = [KNeighborsClassifier(), \"KNeighborsClassifier_basic\"]\n",
    "RFC_basic = [RandomForestClassifier(), \"RandomForestClassifier_basic\"]\n",
    "LSVC_basic = [LinearSVC(), \"LinearSVC_basic\"]\n",
    "\n",
    "basic_models_data = [LGR_basic, DTC_basic, SVC_basic, KNC_basic, RFC_basic, LSVC_basic]\n",
    "\n",
    "\n",
    "parameters = {'penalty': ('l2',), 'C':[1, 10], 'solver': ('newton-cg', 'lbfgs', 'liblinear')}\n",
    "LGR_gscv = [LogisticRegression(), \"LogisticRegression_GSCV\", parameters]\n",
    "            \n",
    "parameters = {'criterion': ('gini', 'entropy'), 'max_depth': (2, 5, 10), 'max_features': (3, 6, 9)}\n",
    "DTC_gscv = [DecisionTreeClassifier(), \"DecisionTreeClassifier_GSCV\", parameters]\n",
    "\n",
    "parameters = {'kernel':('rbf', 'sigmoid'), 'C':[1, 10]}\n",
    "SVC_gscv = [SVC(), \"SVC_GSCV\", parameters]\n",
    "\n",
    "parameters = {'algorithm': ('auto', 'ball_tree', 'kd_tree', 'brute'), 'n_neighbors': (5, 10, 15, 50)}\n",
    "KNC_gscv = [KNeighborsClassifier(), \"KNeighborsClassifier_GSCV\", parameters]\n",
    "\n",
    "parameters = {'criterion': ('gini', 'entropy'), 'max_depth': (2, 5, 10), 'n_estimators': (50, 100, 200)}\n",
    "RFC_gscv = [RandomForestClassifier(), \"RandomForestClassifier_GSCV\", parameters]\n",
    "\n",
    "\n",
    "parameters = {'penalty':('l2',), 'C':[1, 10]}\n",
    "LSVC_gscv = [LinearSVC(), \"LinearSVC_GSCV\", parameters]\n",
    "\n",
    "gscv_models_data = [LGR_gscv, DTC_gscv, SVC_gscv, KNC_gscv, RFC_gscv, LSVC_gscv]\n",
    "\n",
    "LGR_kfolds = [LogisticRegression(), \"LogisticRegression_KFold\", 2, True, 123]\n",
    "DTC_kfolds = [DecisionTreeClassifier(), \"DecisionTreeClassifier_KFold\", 2, True, 123]\n",
    "SVC_kfolds = [SVC(), \"SVC_KFold\", 2, True, 123]\n",
    "KNC_kfolds = [KNeighborsClassifier(), \"KNeighborsClassifier_KFold\", 2, True, 123]\n",
    "RFC_kfolds = [RandomForestClassifier(), \"RandomForestClassifier_KFold\", 2, True, 123]\n",
    "LSCV_kfolds = [LinearSVC(), \"LinearSVC_KFold\", 2, True, 123]\n",
    "\n",
    "kfold_model_data = [LGR_kfolds, DTC_kfolds, SVC_kfolds, KNC_kfolds, RFC_kfolds, LSCV_kfolds]"
   ]
  },
  {
   "cell_type": "markdown",
   "metadata": {},
   "source": [
    "### Imbalanced classes"
   ]
  },
  {
   "cell_type": "code",
   "execution_count": 9,
   "metadata": {
    "collapsed": true
   },
   "outputs": [],
   "source": [
    "results_imbalanced = Results()  # object for saving results\n",
    "basic_models = create_models_data(results_imbalanced, all_data, models_data=basic_models_data, test_size=0.3)\n",
    "gscv_models = create_models_data(results_imbalanced, all_data, models_data=gscv_models_data, test_size=0.3)\n",
    "kfolds_models = create_models_data(results_imbalanced, all_data, models_data=kfold_model_data, test_size=0.3)"
   ]
  },
  {
   "cell_type": "code",
   "execution_count": 10,
   "metadata": {},
   "outputs": [
    {
     "name": "stderr",
     "output_type": "stream",
     "text": [
      "C:\\Users\\Gleb\\Anaconda3\\lib\\site-packages\\sklearn\\externals\\joblib\\parallel.py:547: UserWarning: Multiprocessing-backed parallel loops cannot be nested below threads, setting n_jobs=1\n",
      "  **self._backend_args)\n",
      "C:\\Users\\Gleb\\Anaconda3\\lib\\site-packages\\sklearn\\externals\\joblib\\parallel.py:547: UserWarning: Multiprocessing-backed parallel loops cannot be nested below threads, setting n_jobs=1\n",
      "  **self._backend_args)\n",
      "C:\\Users\\Gleb\\Anaconda3\\lib\\site-packages\\sklearn\\externals\\joblib\\parallel.py:547: UserWarning: Multiprocessing-backed parallel loops cannot be nested below threads, setting n_jobs=1\n",
      "  **self._backend_args)\n",
      "C:\\Users\\Gleb\\Anaconda3\\lib\\site-packages\\sklearn\\externals\\joblib\\parallel.py:547: UserWarning: Multiprocessing-backed parallel loops cannot be nested below threads, setting n_jobs=1\n",
      "  **self._backend_args)\n",
      "C:\\Users\\Gleb\\Anaconda3\\lib\\site-packages\\sklearn\\externals\\joblib\\parallel.py:547: UserWarning: Multiprocessing-backed parallel loops cannot be nested below threads, setting n_jobs=1\n",
      "  **self._backend_args)\n",
      "C:\\Users\\Gleb\\Anaconda3\\lib\\site-packages\\sklearn\\externals\\joblib\\parallel.py:547: UserWarning: Multiprocessing-backed parallel loops cannot be nested below threads, setting n_jobs=1\n",
      "  **self._backend_args)\n",
      "C:\\Users\\Gleb\\Anaconda3\\lib\\site-packages\\sklearn\\externals\\joblib\\parallel.py:547: UserWarning: Multiprocessing-backed parallel loops cannot be nested below threads, setting n_jobs=1\n",
      "  **self._backend_args)\n",
      "C:\\Users\\Gleb\\Anaconda3\\lib\\site-packages\\sklearn\\externals\\joblib\\parallel.py:547: UserWarning: Multiprocessing-backed parallel loops cannot be nested below threads, setting n_jobs=1\n",
      "  **self._backend_args)\n",
      "C:\\Users\\Gleb\\Anaconda3\\lib\\site-packages\\sklearn\\externals\\joblib\\parallel.py:547: UserWarning: Multiprocessing-backed parallel loops cannot be nested below threads, setting n_jobs=1\n",
      "  **self._backend_args)\n",
      "C:\\Users\\Gleb\\Anaconda3\\lib\\site-packages\\sklearn\\externals\\joblib\\parallel.py:547: UserWarning: Multiprocessing-backed parallel loops cannot be nested below threads, setting n_jobs=1\n",
      "  **self._backend_args)\n",
      "C:\\Users\\Gleb\\Anaconda3\\lib\\site-packages\\sklearn\\externals\\joblib\\parallel.py:547: UserWarning: Multiprocessing-backed parallel loops cannot be nested below threads, setting n_jobs=1\n",
      "  **self._backend_args)\n",
      "C:\\Users\\Gleb\\Anaconda3\\lib\\site-packages\\sklearn\\externals\\joblib\\parallel.py:547: UserWarning: Multiprocessing-backed parallel loops cannot be nested below threads, setting n_jobs=1\n",
      "  **self._backend_args)\n"
     ]
    }
   ],
   "source": [
    "for model in basic_models:\n",
    "    basic_model(*model)\n",
    "    \n",
    "for model in gscv_models:\n",
    "    GSCV_model(*model)\n",
    "    \n",
    "for model in kfolds_models:\n",
    "    KFOLD_model(*model)"
   ]
  },
  {
   "cell_type": "code",
   "execution_count": 11,
   "metadata": {},
   "outputs": [
    {
     "data": {
      "text/html": [
       "<div>\n",
       "<style>\n",
       "    .dataframe thead tr:only-child th {\n",
       "        text-align: right;\n",
       "    }\n",
       "\n",
       "    .dataframe thead th {\n",
       "        text-align: left;\n",
       "    }\n",
       "\n",
       "    .dataframe tbody tr th {\n",
       "        vertical-align: top;\n",
       "    }\n",
       "</style>\n",
       "<table border=\"1\" class=\"dataframe\">\n",
       "  <thead>\n",
       "    <tr style=\"text-align: right;\">\n",
       "      <th></th>\n",
       "      <th>accuracy</th>\n",
       "      <th>precision</th>\n",
       "      <th>recall</th>\n",
       "      <th>f_score</th>\n",
       "    </tr>\n",
       "  </thead>\n",
       "  <tbody>\n",
       "    <tr>\n",
       "      <th>LinearSVC_GSCV</th>\n",
       "      <td>0.109873</td>\n",
       "      <td>0.0362069</td>\n",
       "      <td>1</td>\n",
       "      <td>0.0698835</td>\n",
       "    </tr>\n",
       "    <tr>\n",
       "      <th>DecisionTreeClassifier_basic</th>\n",
       "      <td>0.878981</td>\n",
       "      <td>0.937391</td>\n",
       "      <td>0.930915</td>\n",
       "      <td>0.934142</td>\n",
       "    </tr>\n",
       "    <tr>\n",
       "      <th>DecisionTreeClassifier_KFold</th>\n",
       "      <td>0.901104</td>\n",
       "      <td>0.948179</td>\n",
       "      <td>0.944742</td>\n",
       "      <td>0.946454</td>\n",
       "    </tr>\n",
       "    <tr>\n",
       "      <th>LinearSVC_basic</th>\n",
       "      <td>0.907643</td>\n",
       "      <td>1</td>\n",
       "      <td>0.907643</td>\n",
       "      <td>0.951586</td>\n",
       "    </tr>\n",
       "    <tr>\n",
       "      <th>LogisticRegression_GSCV</th>\n",
       "      <td>0.910828</td>\n",
       "      <td>0.996503</td>\n",
       "      <td>0.913462</td>\n",
       "      <td>0.953177</td>\n",
       "    </tr>\n",
       "    <tr>\n",
       "      <th>KNeighborsClassifier_GSCV</th>\n",
       "      <td>0.920382</td>\n",
       "      <td>0.994764</td>\n",
       "      <td>0.923825</td>\n",
       "      <td>0.957983</td>\n",
       "    </tr>\n",
       "    <tr>\n",
       "      <th>DecisionTreeClassifier_GSCV</th>\n",
       "      <td>0.921975</td>\n",
       "      <td>1</td>\n",
       "      <td>0.921975</td>\n",
       "      <td>0.959403</td>\n",
       "    </tr>\n",
       "    <tr>\n",
       "      <th>LinearSVC_KFold</th>\n",
       "      <td>0.9226</td>\n",
       "      <td>1</td>\n",
       "      <td>0.922562</td>\n",
       "      <td>0.959721</td>\n",
       "    </tr>\n",
       "    <tr>\n",
       "      <th>LogisticRegression_KFold</th>\n",
       "      <td>0.923555</td>\n",
       "      <td>0.999481</td>\n",
       "      <td>0.923851</td>\n",
       "      <td>0.960179</td>\n",
       "    </tr>\n",
       "    <tr>\n",
       "      <th>RandomForestClassifier_KFold</th>\n",
       "      <td>0.930245</td>\n",
       "      <td>0.995854</td>\n",
       "      <td>0.933009</td>\n",
       "      <td>0.963407</td>\n",
       "    </tr>\n",
       "    <tr>\n",
       "      <th>SVC_KFold</th>\n",
       "      <td>0.930245</td>\n",
       "      <td>1</td>\n",
       "      <td>0.929674</td>\n",
       "      <td>0.963555</td>\n",
       "    </tr>\n",
       "    <tr>\n",
       "      <th>KNeighborsClassifier_KFold</th>\n",
       "      <td>0.932632</td>\n",
       "      <td>0.996892</td>\n",
       "      <td>0.934434</td>\n",
       "      <td>0.964653</td>\n",
       "    </tr>\n",
       "    <tr>\n",
       "      <th>SVC_GSCV</th>\n",
       "      <td>0.933121</td>\n",
       "      <td>0.987973</td>\n",
       "      <td>0.942623</td>\n",
       "      <td>0.964765</td>\n",
       "    </tr>\n",
       "    <tr>\n",
       "      <th>SVC_basic</th>\n",
       "      <td>0.933121</td>\n",
       "      <td>1</td>\n",
       "      <td>0.932258</td>\n",
       "      <td>0.964942</td>\n",
       "    </tr>\n",
       "    <tr>\n",
       "      <th>RandomForestClassifier_basic</th>\n",
       "      <td>0.944268</td>\n",
       "      <td>0.99827</td>\n",
       "      <td>0.944354</td>\n",
       "      <td>0.970563</td>\n",
       "    </tr>\n",
       "    <tr>\n",
       "      <th>KNeighborsClassifier_basic</th>\n",
       "      <td>0.94586</td>\n",
       "      <td>0.998299</td>\n",
       "      <td>0.946774</td>\n",
       "      <td>0.971854</td>\n",
       "    </tr>\n",
       "    <tr>\n",
       "      <th>LogisticRegression_basic</th>\n",
       "      <td>0.947452</td>\n",
       "      <td>1</td>\n",
       "      <td>0.947368</td>\n",
       "      <td>0.972973</td>\n",
       "    </tr>\n",
       "  </tbody>\n",
       "</table>\n",
       "</div>"
      ],
      "text/plain": [
       "                              accuracy  precision    recall    f_score\n",
       "LinearSVC_GSCV                0.109873  0.0362069         1  0.0698835\n",
       "DecisionTreeClassifier_basic  0.878981   0.937391  0.930915   0.934142\n",
       "DecisionTreeClassifier_KFold  0.901104   0.948179  0.944742   0.946454\n",
       "LinearSVC_basic               0.907643          1  0.907643   0.951586\n",
       "LogisticRegression_GSCV       0.910828   0.996503  0.913462   0.953177\n",
       "KNeighborsClassifier_GSCV     0.920382   0.994764  0.923825   0.957983\n",
       "DecisionTreeClassifier_GSCV   0.921975          1  0.921975   0.959403\n",
       "LinearSVC_KFold                 0.9226          1  0.922562   0.959721\n",
       "LogisticRegression_KFold      0.923555   0.999481  0.923851   0.960179\n",
       "RandomForestClassifier_KFold  0.930245   0.995854  0.933009   0.963407\n",
       "SVC_KFold                     0.930245          1  0.929674   0.963555\n",
       "KNeighborsClassifier_KFold    0.932632   0.996892  0.934434   0.964653\n",
       "SVC_GSCV                      0.933121   0.987973  0.942623   0.964765\n",
       "SVC_basic                     0.933121          1  0.932258   0.964942\n",
       "RandomForestClassifier_basic  0.944268    0.99827  0.944354   0.970563\n",
       "KNeighborsClassifier_basic     0.94586   0.998299  0.946774   0.971854\n",
       "LogisticRegression_basic      0.947452          1  0.947368   0.972973"
      ]
     },
     "execution_count": 11,
     "metadata": {},
     "output_type": "execute_result"
    }
   ],
   "source": [
    "results_imbalanced.get_scores().sort_values(by=\"f_score\")"
   ]
  },
  {
   "cell_type": "markdown",
   "metadata": {},
   "source": [
    "### Balanced classes (oversampled)"
   ]
  },
  {
   "cell_type": "code",
   "execution_count": 12,
   "metadata": {
    "collapsed": true
   },
   "outputs": [],
   "source": [
    "results_oversampled = Results()  # object for saving results\n",
    "basic_models = create_models_data(results_oversampled, df_oversampled, models_data=basic_models_data, test_size=0.3)\n",
    "gscv_models = create_models_data(results_oversampled, df_oversampled, models_data=gscv_models_data, test_size=0.3)\n",
    "kfolds_models = create_models_data(results_oversampled, df_oversampled, models_data=kfold_model_data, test_size=0.3)"
   ]
  },
  {
   "cell_type": "code",
   "execution_count": 13,
   "metadata": {},
   "outputs": [
    {
     "name": "stderr",
     "output_type": "stream",
     "text": [
      "C:\\Users\\Gleb\\Anaconda3\\lib\\site-packages\\sklearn\\externals\\joblib\\parallel.py:547: UserWarning: Multiprocessing-backed parallel loops cannot be nested below threads, setting n_jobs=1\n",
      "  **self._backend_args)\n",
      "C:\\Users\\Gleb\\Anaconda3\\lib\\site-packages\\sklearn\\externals\\joblib\\parallel.py:547: UserWarning: Multiprocessing-backed parallel loops cannot be nested below threads, setting n_jobs=1\n",
      "  **self._backend_args)\n",
      "C:\\Users\\Gleb\\Anaconda3\\lib\\site-packages\\sklearn\\externals\\joblib\\parallel.py:547: UserWarning: Multiprocessing-backed parallel loops cannot be nested below threads, setting n_jobs=1\n",
      "  **self._backend_args)\n",
      "C:\\Users\\Gleb\\Anaconda3\\lib\\site-packages\\sklearn\\externals\\joblib\\parallel.py:547: UserWarning: Multiprocessing-backed parallel loops cannot be nested below threads, setting n_jobs=1\n",
      "  **self._backend_args)\n",
      "C:\\Users\\Gleb\\Anaconda3\\lib\\site-packages\\sklearn\\externals\\joblib\\parallel.py:547: UserWarning: Multiprocessing-backed parallel loops cannot be nested below threads, setting n_jobs=1\n",
      "  **self._backend_args)\n",
      "C:\\Users\\Gleb\\Anaconda3\\lib\\site-packages\\sklearn\\externals\\joblib\\parallel.py:547: UserWarning: Multiprocessing-backed parallel loops cannot be nested below threads, setting n_jobs=1\n",
      "  **self._backend_args)\n",
      "C:\\Users\\Gleb\\Anaconda3\\lib\\site-packages\\sklearn\\externals\\joblib\\parallel.py:547: UserWarning: Multiprocessing-backed parallel loops cannot be nested below threads, setting n_jobs=1\n",
      "  **self._backend_args)\n",
      "C:\\Users\\Gleb\\Anaconda3\\lib\\site-packages\\sklearn\\externals\\joblib\\parallel.py:547: UserWarning: Multiprocessing-backed parallel loops cannot be nested below threads, setting n_jobs=1\n",
      "  **self._backend_args)\n",
      "C:\\Users\\Gleb\\Anaconda3\\lib\\site-packages\\sklearn\\externals\\joblib\\parallel.py:547: UserWarning: Multiprocessing-backed parallel loops cannot be nested below threads, setting n_jobs=1\n",
      "  **self._backend_args)\n",
      "C:\\Users\\Gleb\\Anaconda3\\lib\\site-packages\\sklearn\\externals\\joblib\\parallel.py:547: UserWarning: Multiprocessing-backed parallel loops cannot be nested below threads, setting n_jobs=1\n",
      "  **self._backend_args)\n",
      "C:\\Users\\Gleb\\Anaconda3\\lib\\site-packages\\sklearn\\externals\\joblib\\parallel.py:547: UserWarning: Multiprocessing-backed parallel loops cannot be nested below threads, setting n_jobs=1\n",
      "  **self._backend_args)\n",
      "C:\\Users\\Gleb\\Anaconda3\\lib\\site-packages\\sklearn\\externals\\joblib\\parallel.py:547: UserWarning: Multiprocessing-backed parallel loops cannot be nested below threads, setting n_jobs=1\n",
      "  **self._backend_args)\n",
      "C:\\Users\\Gleb\\Anaconda3\\lib\\site-packages\\sklearn\\externals\\joblib\\parallel.py:547: UserWarning: Multiprocessing-backed parallel loops cannot be nested below threads, setting n_jobs=1\n",
      "  **self._backend_args)\n",
      "C:\\Users\\Gleb\\Anaconda3\\lib\\site-packages\\sklearn\\externals\\joblib\\parallel.py:547: UserWarning: Multiprocessing-backed parallel loops cannot be nested below threads, setting n_jobs=1\n",
      "  **self._backend_args)\n",
      "C:\\Users\\Gleb\\Anaconda3\\lib\\site-packages\\sklearn\\externals\\joblib\\parallel.py:547: UserWarning: Multiprocessing-backed parallel loops cannot be nested below threads, setting n_jobs=1\n",
      "  **self._backend_args)\n",
      "C:\\Users\\Gleb\\Anaconda3\\lib\\site-packages\\sklearn\\externals\\joblib\\parallel.py:547: UserWarning: Multiprocessing-backed parallel loops cannot be nested below threads, setting n_jobs=1\n",
      "  **self._backend_args)\n"
     ]
    }
   ],
   "source": [
    "for model in basic_models:\n",
    "    basic_model(*model)\n",
    "    \n",
    "for model in gscv_models:\n",
    "    GSCV_model(*model)\n",
    "    \n",
    "for model in kfolds_models:\n",
    "    KFOLD_model(*model)"
   ]
  },
  {
   "cell_type": "code",
   "execution_count": 15,
   "metadata": {},
   "outputs": [
    {
     "data": {
      "text/html": [
       "<div>\n",
       "<style>\n",
       "    .dataframe thead tr:only-child th {\n",
       "        text-align: right;\n",
       "    }\n",
       "\n",
       "    .dataframe thead th {\n",
       "        text-align: left;\n",
       "    }\n",
       "\n",
       "    .dataframe tbody tr th {\n",
       "        vertical-align: top;\n",
       "    }\n",
       "</style>\n",
       "<table border=\"1\" class=\"dataframe\">\n",
       "  <thead>\n",
       "    <tr style=\"text-align: right;\">\n",
       "      <th></th>\n",
       "      <th>accuracy</th>\n",
       "      <th>precision</th>\n",
       "      <th>recall</th>\n",
       "      <th>f_score</th>\n",
       "    </tr>\n",
       "  </thead>\n",
       "  <tbody>\n",
       "    <tr>\n",
       "      <th>LinearSVC_GSCV</th>\n",
       "      <td>0.517271</td>\n",
       "      <td>0.0297203</td>\n",
       "      <td>0.809524</td>\n",
       "      <td>0.0573356</td>\n",
       "    </tr>\n",
       "    <tr>\n",
       "      <th>LinearSVC_KFold</th>\n",
       "      <td>0.540155</td>\n",
       "      <td>0.488208</td>\n",
       "      <td>0.771206</td>\n",
       "      <td>0.355906</td>\n",
       "    </tr>\n",
       "    <tr>\n",
       "      <th>LogisticRegression_GSCV</th>\n",
       "      <td>0.672712</td>\n",
       "      <td>0.673179</td>\n",
       "      <td>0.660279</td>\n",
       "      <td>0.666667</td>\n",
       "    </tr>\n",
       "    <tr>\n",
       "      <th>LogisticRegression_KFold</th>\n",
       "      <td>0.67228</td>\n",
       "      <td>0.661661</td>\n",
       "      <td>0.676027</td>\n",
       "      <td>0.668757</td>\n",
       "    </tr>\n",
       "    <tr>\n",
       "      <th>LogisticRegression_basic</th>\n",
       "      <td>0.704663</td>\n",
       "      <td>0.690435</td>\n",
       "      <td>0.707665</td>\n",
       "      <td>0.698944</td>\n",
       "    </tr>\n",
       "    <tr>\n",
       "      <th>LinearSVC_basic</th>\n",
       "      <td>0.629534</td>\n",
       "      <td>0.961268</td>\n",
       "      <td>0.572928</td>\n",
       "      <td>0.717949</td>\n",
       "    </tr>\n",
       "    <tr>\n",
       "      <th>KNeighborsClassifier_KFold</th>\n",
       "      <td>0.90829</td>\n",
       "      <td>0.830097</td>\n",
       "      <td>0.984176</td>\n",
       "      <td>0.900507</td>\n",
       "    </tr>\n",
       "    <tr>\n",
       "      <th>DecisionTreeClassifier_GSCV</th>\n",
       "      <td>0.91019</td>\n",
       "      <td>0.827055</td>\n",
       "      <td>0.993827</td>\n",
       "      <td>0.902804</td>\n",
       "    </tr>\n",
       "    <tr>\n",
       "      <th>KNeighborsClassifier_GSCV</th>\n",
       "      <td>0.943005</td>\n",
       "      <td>0.893967</td>\n",
       "      <td>0.983903</td>\n",
       "      <td>0.936782</td>\n",
       "    </tr>\n",
       "    <tr>\n",
       "      <th>KNeighborsClassifier_basic</th>\n",
       "      <td>0.946459</td>\n",
       "      <td>0.891798</td>\n",
       "      <td>1</td>\n",
       "      <td>0.942804</td>\n",
       "    </tr>\n",
       "    <tr>\n",
       "      <th>DecisionTreeClassifier_KFold</th>\n",
       "      <td>0.955959</td>\n",
       "      <td>0.914579</td>\n",
       "      <td>0.997166</td>\n",
       "      <td>0.954066</td>\n",
       "    </tr>\n",
       "    <tr>\n",
       "      <th>DecisionTreeClassifier_basic</th>\n",
       "      <td>0.967185</td>\n",
       "      <td>0.934256</td>\n",
       "      <td>1</td>\n",
       "      <td>0.966011</td>\n",
       "    </tr>\n",
       "    <tr>\n",
       "      <th>SVC_KFold</th>\n",
       "      <td>0.980311</td>\n",
       "      <td>0.968396</td>\n",
       "      <td>0.99203</td>\n",
       "      <td>0.980068</td>\n",
       "    </tr>\n",
       "    <tr>\n",
       "      <th>RandomForestClassifier_KFold</th>\n",
       "      <td>0.983679</td>\n",
       "      <td>0.969966</td>\n",
       "      <td>0.997352</td>\n",
       "      <td>0.983468</td>\n",
       "    </tr>\n",
       "    <tr>\n",
       "      <th>SVC_basic</th>\n",
       "      <td>0.987047</td>\n",
       "      <td>0.977273</td>\n",
       "      <td>0.996435</td>\n",
       "      <td>0.986761</td>\n",
       "    </tr>\n",
       "    <tr>\n",
       "      <th>SVC_GSCV</th>\n",
       "      <td>0.993955</td>\n",
       "      <td>0.988095</td>\n",
       "      <td>1</td>\n",
       "      <td>0.994012</td>\n",
       "    </tr>\n",
       "    <tr>\n",
       "      <th>RandomForestClassifier_basic</th>\n",
       "      <td>0.994819</td>\n",
       "      <td>0.989381</td>\n",
       "      <td>1</td>\n",
       "      <td>0.994662</td>\n",
       "    </tr>\n",
       "  </tbody>\n",
       "</table>\n",
       "</div>"
      ],
      "text/plain": [
       "                              accuracy  precision    recall    f_score\n",
       "LinearSVC_GSCV                0.517271  0.0297203  0.809524  0.0573356\n",
       "LinearSVC_KFold               0.540155   0.488208  0.771206   0.355906\n",
       "LogisticRegression_GSCV       0.672712   0.673179  0.660279   0.666667\n",
       "LogisticRegression_KFold       0.67228   0.661661  0.676027   0.668757\n",
       "LogisticRegression_basic      0.704663   0.690435  0.707665   0.698944\n",
       "LinearSVC_basic               0.629534   0.961268  0.572928   0.717949\n",
       "KNeighborsClassifier_KFold     0.90829   0.830097  0.984176   0.900507\n",
       "DecisionTreeClassifier_GSCV    0.91019   0.827055  0.993827   0.902804\n",
       "KNeighborsClassifier_GSCV     0.943005   0.893967  0.983903   0.936782\n",
       "KNeighborsClassifier_basic    0.946459   0.891798         1   0.942804\n",
       "DecisionTreeClassifier_KFold  0.955959   0.914579  0.997166   0.954066\n",
       "DecisionTreeClassifier_basic  0.967185   0.934256         1   0.966011\n",
       "SVC_KFold                     0.980311   0.968396   0.99203   0.980068\n",
       "RandomForestClassifier_KFold  0.983679   0.969966  0.997352   0.983468\n",
       "SVC_basic                     0.987047   0.977273  0.996435   0.986761\n",
       "SVC_GSCV                      0.993955   0.988095         1   0.994012\n",
       "RandomForestClassifier_basic  0.994819   0.989381         1   0.994662"
      ]
     },
     "execution_count": 15,
     "metadata": {},
     "output_type": "execute_result"
    }
   ],
   "source": [
    "results_oversampled.get_scores().sort_values(by=\"f_score\")"
   ]
  },
  {
   "cell_type": "markdown",
   "metadata": {},
   "source": [
    "### Balanced classes (undersampled)"
   ]
  },
  {
   "cell_type": "code",
   "execution_count": 16,
   "metadata": {
    "collapsed": true
   },
   "outputs": [],
   "source": [
    "results_undersampled = Results()  # object for saving results\n",
    "basic_models = create_models_data(results_undersampled, df_undersampled, models_data=basic_models_data, test_size=0.3)\n",
    "gscv_models = create_models_data(results_undersampled, df_undersampled, models_data=gscv_models_data, test_size=0.3)\n",
    "kfolds_models = create_models_data(results_undersampled, df_undersampled, models_data=kfold_model_data, test_size=0.3)"
   ]
  },
  {
   "cell_type": "code",
   "execution_count": 17,
   "metadata": {},
   "outputs": [
    {
     "name": "stderr",
     "output_type": "stream",
     "text": [
      "C:\\Users\\Gleb\\Anaconda3\\lib\\site-packages\\sklearn\\externals\\joblib\\parallel.py:547: UserWarning: Multiprocessing-backed parallel loops cannot be nested below threads, setting n_jobs=1\n",
      "  **self._backend_args)\n",
      "C:\\Users\\Gleb\\Anaconda3\\lib\\site-packages\\sklearn\\externals\\joblib\\parallel.py:547: UserWarning: Multiprocessing-backed parallel loops cannot be nested below threads, setting n_jobs=1\n",
      "  **self._backend_args)\n",
      "C:\\Users\\Gleb\\Anaconda3\\lib\\site-packages\\sklearn\\externals\\joblib\\parallel.py:547: UserWarning: Multiprocessing-backed parallel loops cannot be nested below threads, setting n_jobs=1\n",
      "  **self._backend_args)\n",
      "C:\\Users\\Gleb\\Anaconda3\\lib\\site-packages\\sklearn\\externals\\joblib\\parallel.py:547: UserWarning: Multiprocessing-backed parallel loops cannot be nested below threads, setting n_jobs=1\n",
      "  **self._backend_args)\n",
      "C:\\Users\\Gleb\\Anaconda3\\lib\\site-packages\\sklearn\\externals\\joblib\\parallel.py:547: UserWarning: Multiprocessing-backed parallel loops cannot be nested below threads, setting n_jobs=1\n",
      "  **self._backend_args)\n",
      "C:\\Users\\Gleb\\Anaconda3\\lib\\site-packages\\sklearn\\externals\\joblib\\parallel.py:547: UserWarning: Multiprocessing-backed parallel loops cannot be nested below threads, setting n_jobs=1\n",
      "  **self._backend_args)\n",
      "C:\\Users\\Gleb\\Anaconda3\\lib\\site-packages\\sklearn\\externals\\joblib\\parallel.py:547: UserWarning: Multiprocessing-backed parallel loops cannot be nested below threads, setting n_jobs=1\n",
      "  **self._backend_args)\n",
      "C:\\Users\\Gleb\\Anaconda3\\lib\\site-packages\\sklearn\\externals\\joblib\\parallel.py:547: UserWarning: Multiprocessing-backed parallel loops cannot be nested below threads, setting n_jobs=1\n",
      "  **self._backend_args)\n",
      "C:\\Users\\Gleb\\Anaconda3\\lib\\site-packages\\sklearn\\externals\\joblib\\parallel.py:547: UserWarning: Multiprocessing-backed parallel loops cannot be nested below threads, setting n_jobs=1\n",
      "  **self._backend_args)\n",
      "C:\\Users\\Gleb\\Anaconda3\\lib\\site-packages\\sklearn\\externals\\joblib\\parallel.py:547: UserWarning: Multiprocessing-backed parallel loops cannot be nested below threads, setting n_jobs=1\n",
      "  **self._backend_args)\n",
      "C:\\Users\\Gleb\\Anaconda3\\lib\\site-packages\\sklearn\\externals\\joblib\\parallel.py:547: UserWarning: Multiprocessing-backed parallel loops cannot be nested below threads, setting n_jobs=1\n",
      "  **self._backend_args)\n",
      "C:\\Users\\Gleb\\Anaconda3\\lib\\site-packages\\sklearn\\externals\\joblib\\parallel.py:547: UserWarning: Multiprocessing-backed parallel loops cannot be nested below threads, setting n_jobs=1\n",
      "  **self._backend_args)\n",
      "C:\\Users\\Gleb\\Anaconda3\\lib\\site-packages\\sklearn\\externals\\joblib\\parallel.py:547: UserWarning: Multiprocessing-backed parallel loops cannot be nested below threads, setting n_jobs=1\n",
      "  **self._backend_args)\n",
      "C:\\Users\\Gleb\\Anaconda3\\lib\\site-packages\\sklearn\\externals\\joblib\\parallel.py:547: UserWarning: Multiprocessing-backed parallel loops cannot be nested below threads, setting n_jobs=1\n",
      "  **self._backend_args)\n",
      "C:\\Users\\Gleb\\Anaconda3\\lib\\site-packages\\sklearn\\externals\\joblib\\parallel.py:547: UserWarning: Multiprocessing-backed parallel loops cannot be nested below threads, setting n_jobs=1\n",
      "  **self._backend_args)\n",
      "C:\\Users\\Gleb\\Anaconda3\\lib\\site-packages\\sklearn\\externals\\joblib\\parallel.py:547: UserWarning: Multiprocessing-backed parallel loops cannot be nested below threads, setting n_jobs=1\n",
      "  **self._backend_args)\n",
      "C:\\Users\\Gleb\\Anaconda3\\lib\\site-packages\\sklearn\\externals\\joblib\\parallel.py:547: UserWarning: Multiprocessing-backed parallel loops cannot be nested below threads, setting n_jobs=1\n",
      "  **self._backend_args)\n",
      "C:\\Users\\Gleb\\Anaconda3\\lib\\site-packages\\sklearn\\externals\\joblib\\parallel.py:547: UserWarning: Multiprocessing-backed parallel loops cannot be nested below threads, setting n_jobs=1\n",
      "  **self._backend_args)\n"
     ]
    }
   ],
   "source": [
    "for model in basic_models:\n",
    "    basic_model(*model)\n",
    "    \n",
    "for model in gscv_models:\n",
    "    GSCV_model(*model)\n",
    "    \n",
    "for model in kfolds_models:\n",
    "    KFOLD_model(*model)"
   ]
  },
  {
   "cell_type": "code",
   "execution_count": 21,
   "metadata": {},
   "outputs": [
    {
     "data": {
      "text/html": [
       "<div>\n",
       "<style>\n",
       "    .dataframe thead tr:only-child th {\n",
       "        text-align: right;\n",
       "    }\n",
       "\n",
       "    .dataframe thead th {\n",
       "        text-align: left;\n",
       "    }\n",
       "\n",
       "    .dataframe tbody tr th {\n",
       "        vertical-align: top;\n",
       "    }\n",
       "</style>\n",
       "<table border=\"1\" class=\"dataframe\">\n",
       "  <thead>\n",
       "    <tr style=\"text-align: right;\">\n",
       "      <th></th>\n",
       "      <th>accuracy</th>\n",
       "      <th>precision</th>\n",
       "      <th>recall</th>\n",
       "      <th>f_score</th>\n",
       "    </tr>\n",
       "  </thead>\n",
       "  <tbody>\n",
       "    <tr>\n",
       "      <th>LinearSVC_basic</th>\n",
       "      <td>0.55102</td>\n",
       "      <td>0.148936</td>\n",
       "      <td>0.636364</td>\n",
       "      <td>0.241379</td>\n",
       "    </tr>\n",
       "    <tr>\n",
       "      <th>SVC_basic</th>\n",
       "      <td>0.520408</td>\n",
       "      <td>0.307692</td>\n",
       "      <td>0.592593</td>\n",
       "      <td>0.405063</td>\n",
       "    </tr>\n",
       "    <tr>\n",
       "      <th>LinearSVC_KFold</th>\n",
       "      <td>0.521472</td>\n",
       "      <td>0.54878</td>\n",
       "      <td>0.694444</td>\n",
       "      <td>0.421245</td>\n",
       "    </tr>\n",
       "    <tr>\n",
       "      <th>DecisionTreeClassifier_GSCV</th>\n",
       "      <td>0.489796</td>\n",
       "      <td>0.407407</td>\n",
       "      <td>0.55</td>\n",
       "      <td>0.468085</td>\n",
       "    </tr>\n",
       "    <tr>\n",
       "      <th>RandomForestClassifier_basic</th>\n",
       "      <td>0.571429</td>\n",
       "      <td>0.565217</td>\n",
       "      <td>0.541667</td>\n",
       "      <td>0.553191</td>\n",
       "    </tr>\n",
       "    <tr>\n",
       "      <th>RandomForestClassifier_GSCV</th>\n",
       "      <td>0.622449</td>\n",
       "      <td>0.490566</td>\n",
       "      <td>0.722222</td>\n",
       "      <td>0.58427</td>\n",
       "    </tr>\n",
       "    <tr>\n",
       "      <th>DecisionTreeClassifier_basic</th>\n",
       "      <td>0.642857</td>\n",
       "      <td>0.555556</td>\n",
       "      <td>0.625</td>\n",
       "      <td>0.588235</td>\n",
       "    </tr>\n",
       "    <tr>\n",
       "      <th>KNeighborsClassifier_basic</th>\n",
       "      <td>0.612245</td>\n",
       "      <td>0.583333</td>\n",
       "      <td>0.608696</td>\n",
       "      <td>0.595745</td>\n",
       "    </tr>\n",
       "    <tr>\n",
       "      <th>RandomForestClassifier_KFold</th>\n",
       "      <td>0.644172</td>\n",
       "      <td>0.527477</td>\n",
       "      <td>0.689269</td>\n",
       "      <td>0.596977</td>\n",
       "    </tr>\n",
       "    <tr>\n",
       "      <th>LinearSVC_GSCV</th>\n",
       "      <td>0.591837</td>\n",
       "      <td>0.697674</td>\n",
       "      <td>0.526316</td>\n",
       "      <td>0.6</td>\n",
       "    </tr>\n",
       "    <tr>\n",
       "      <th>LogisticRegression_KFold</th>\n",
       "      <td>0.619632</td>\n",
       "      <td>0.57716</td>\n",
       "      <td>0.644657</td>\n",
       "      <td>0.600997</td>\n",
       "    </tr>\n",
       "    <tr>\n",
       "      <th>DecisionTreeClassifier_KFold</th>\n",
       "      <td>0.604294</td>\n",
       "      <td>0.607874</td>\n",
       "      <td>0.601273</td>\n",
       "      <td>0.603297</td>\n",
       "    </tr>\n",
       "    <tr>\n",
       "      <th>LogisticRegression_GSCV</th>\n",
       "      <td>0.663265</td>\n",
       "      <td>0.644444</td>\n",
       "      <td>0.630435</td>\n",
       "      <td>0.637363</td>\n",
       "    </tr>\n",
       "    <tr>\n",
       "      <th>LogisticRegression_basic</th>\n",
       "      <td>0.632653</td>\n",
       "      <td>0.592593</td>\n",
       "      <td>0.695652</td>\n",
       "      <td>0.64</td>\n",
       "    </tr>\n",
       "    <tr>\n",
       "      <th>SVC_GSCV</th>\n",
       "      <td>0.642857</td>\n",
       "      <td>0.791667</td>\n",
       "      <td>0.603175</td>\n",
       "      <td>0.684685</td>\n",
       "    </tr>\n",
       "    <tr>\n",
       "      <th>SVC_KFold</th>\n",
       "      <td>0.644172</td>\n",
       "      <td>0.773111</td>\n",
       "      <td>0.615884</td>\n",
       "      <td>0.684993</td>\n",
       "    </tr>\n",
       "    <tr>\n",
       "      <th>KNeighborsClassifier_KFold</th>\n",
       "      <td>0.687117</td>\n",
       "      <td>0.68112</td>\n",
       "      <td>0.689333</td>\n",
       "      <td>0.685097</td>\n",
       "    </tr>\n",
       "    <tr>\n",
       "      <th>KNeighborsClassifier_GSCV</th>\n",
       "      <td>0.704082</td>\n",
       "      <td>0.642857</td>\n",
       "      <td>0.8</td>\n",
       "      <td>0.712871</td>\n",
       "    </tr>\n",
       "  </tbody>\n",
       "</table>\n",
       "</div>"
      ],
      "text/plain": [
       "                              accuracy precision    recall   f_score\n",
       "LinearSVC_basic                0.55102  0.148936  0.636364  0.241379\n",
       "SVC_basic                     0.520408  0.307692  0.592593  0.405063\n",
       "LinearSVC_KFold               0.521472   0.54878  0.694444  0.421245\n",
       "DecisionTreeClassifier_GSCV   0.489796  0.407407      0.55  0.468085\n",
       "RandomForestClassifier_basic  0.571429  0.565217  0.541667  0.553191\n",
       "RandomForestClassifier_GSCV   0.622449  0.490566  0.722222   0.58427\n",
       "DecisionTreeClassifier_basic  0.642857  0.555556     0.625  0.588235\n",
       "KNeighborsClassifier_basic    0.612245  0.583333  0.608696  0.595745\n",
       "RandomForestClassifier_KFold  0.644172  0.527477  0.689269  0.596977\n",
       "LinearSVC_GSCV                0.591837  0.697674  0.526316       0.6\n",
       "LogisticRegression_KFold      0.619632   0.57716  0.644657  0.600997\n",
       "DecisionTreeClassifier_KFold  0.604294  0.607874  0.601273  0.603297\n",
       "LogisticRegression_GSCV       0.663265  0.644444  0.630435  0.637363\n",
       "LogisticRegression_basic      0.632653  0.592593  0.695652      0.64\n",
       "SVC_GSCV                      0.642857  0.791667  0.603175  0.684685\n",
       "SVC_KFold                     0.644172  0.773111  0.615884  0.684993\n",
       "KNeighborsClassifier_KFold    0.687117   0.68112  0.689333  0.685097\n",
       "KNeighborsClassifier_GSCV     0.704082  0.642857       0.8  0.712871"
      ]
     },
     "execution_count": 21,
     "metadata": {},
     "output_type": "execute_result"
    }
   ],
   "source": [
    "results_undersampled.get_scores().sort_values(by=\"f_score\")"
   ]
  },
  {
   "cell_type": "markdown",
   "metadata": {
    "collapsed": true
   },
   "source": [
    "### Results review"
   ]
  },
  {
   "cell_type": "markdown",
   "metadata": {},
   "source": [
    "Best results shows random forest, so we will research this model closer.\n",
    "Also we will pay attention on decision tree, because this model is the easiestfor interpretation"
   ]
  },
  {
   "cell_type": "markdown",
   "metadata": {
    "collapsed": true
   },
   "source": [
    "## Random Forest"
   ]
  },
  {
   "cell_type": "markdown",
   "metadata": {},
   "source": [
    "### On undersampled data"
   ]
  },
  {
   "cell_type": "code",
   "execution_count": 19,
   "metadata": {
    "collapsed": true
   },
   "outputs": [],
   "source": [
    "df = deepcopy(df_undersampled)\n",
    "y = df['respiratory_disease']\n",
    "X = df.drop(['respiratory_disease'], axis=1)\n",
    "model_object = RandomForestClassifier()"
   ]
  },
  {
   "cell_type": "code",
   "execution_count": 20,
   "metadata": {},
   "outputs": [
    {
     "name": "stdout",
     "output_type": "stream",
     "text": [
      "RandomForestClassifier(bootstrap=True, class_weight=None, criterion='entropy',\n",
      "            max_depth=9, max_features='auto', max_leaf_nodes=None,\n",
      "            min_impurity_decrease=0.0, min_impurity_split=None,\n",
      "            min_samples_leaf=1, min_samples_split=2,\n",
      "            min_weight_fraction_leaf=0.0, n_estimators=400, n_jobs=-1,\n",
      "            oob_score=False, random_state=None, verbose=0,\n",
      "            warm_start=False)\n",
      "0.7280701754385965\n"
     ]
    }
   ],
   "source": [
    "parameters = {\"criterion\": ('gini', 'entropy'), \"n_estimators\": np.linspace(50, 400, 8, dtype=int),\n",
    "              \"max_depth\": np.linspace(1, 9, 9, dtype=int),\n",
    "              \"max_features\": ('auto', 'sqrt', 'log2'), \"n_jobs\": (-1,)}\n",
    "X_train, X_test, y_train, y_test = train_test_split(X, y, test_size=0.3)  \n",
    "classifier = GridSearchCV(model_object, parameters)\n",
    "classifier.fit(X_train, y_train)\n",
    "print(classifier.best_estimator_)\n",
    "print(classifier.best_score_)"
   ]
  },
  {
   "cell_type": "code",
   "execution_count": 22,
   "metadata": {},
   "outputs": [
    {
     "data": {
      "text/plain": [
       "{'accuracy': 0.6632653061224489,\n",
       " 'f_score': 0.6857142857142857,\n",
       " 'precision': 0.6923076923076923,\n",
       " 'recall': 0.6792452830188679}"
      ]
     },
     "execution_count": 22,
     "metadata": {},
     "output_type": "execute_result"
    }
   ],
   "source": [
    "model_object = classifier.best_estimator_\n",
    "model_object.fit(X_train, y_train)\n",
    "y_hat = model_object.predict(X_test)\n",
    "model_score = classification_scores(y_hat, y_test)\n",
    "model_score"
   ]
  },
  {
   "cell_type": "code",
   "execution_count": 23,
   "metadata": {},
   "outputs": [
    {
     "data": {
      "text/plain": [
       "{'accuracy': 0.6961150753199683,\n",
       " 'f_score': 0.6953542280738264,\n",
       " 'precision': 0.6976359338061465,\n",
       " 'recall': 0.7044653813356626}"
      ]
     },
     "execution_count": 23,
     "metadata": {},
     "output_type": "execute_result"
    }
   ],
   "source": [
    "accuracies = []\n",
    "recalls = []\n",
    "precisions = []\n",
    "f_scores = []\n",
    "\n",
    "\n",
    "\n",
    "kf = KFold(n_splits=3, shuffle=True, random_state=123)\n",
    "\n",
    "for train_index, test_index in kf.split(X):\n",
    "    X_train, X_test = X.iloc[train_index], X.iloc[test_index]\n",
    "    y_train, y_test = y.iloc[train_index], y.iloc[test_index]\n",
    "\n",
    "    model_object.fit(X_train, y_train)\n",
    "    y_hat = model_object.predict(X_test)\n",
    "    model_score = classification_scores(y_hat, y_test)\n",
    "    accuracies.append(model_score.get(\"accuracy\"))\n",
    "    recalls.append(model_score.get(\"recall\"))\n",
    "    precisions.append(model_score.get(\"precision\"))\n",
    "    f_scores.append(model_score.get(\"f_score\"))\n",
    "\n",
    "model_score = {\"accuracy\": np.mean(accuracies),\n",
    "               \"precision\": np.mean(precisions),\n",
    "               \"recall\": np.mean(recalls),\n",
    "               \"f_score\": np.mean(f_scores)}     \n",
    "\n",
    "model_score\n"
   ]
  },
  {
   "cell_type": "markdown",
   "metadata": {
    "collapsed": true
   },
   "source": [
    "### On oversampled data"
   ]
  },
  {
   "cell_type": "code",
   "execution_count": 24,
   "metadata": {
    "collapsed": true
   },
   "outputs": [],
   "source": [
    "df = deepcopy(df_oversampled)\n",
    "y = df['respiratory_disease']\n",
    "X = df.drop(['respiratory_disease'], axis=1)\n",
    "model_object = RandomForestClassifier()"
   ]
  },
  {
   "cell_type": "code",
   "execution_count": 25,
   "metadata": {},
   "outputs": [
    {
     "name": "stdout",
     "output_type": "stream",
     "text": [
      "RandomForestClassifier(bootstrap=True, class_weight=None, criterion='gini',\n",
      "            max_depth=9, max_features='log2', max_leaf_nodes=None,\n",
      "            min_impurity_decrease=0.0, min_impurity_split=None,\n",
      "            min_samples_leaf=1, min_samples_split=2,\n",
      "            min_weight_fraction_leaf=0.0, n_estimators=350, n_jobs=-1,\n",
      "            oob_score=False, random_state=None, verbose=0,\n",
      "            warm_start=False)\n",
      "0.9811250925240562\n"
     ]
    }
   ],
   "source": [
    "parameters = {\"criterion\": ('gini', 'entropy'), \"n_estimators\": np.linspace(50, 400, 8, dtype=int),\n",
    "              \"max_depth\": np.linspace(1, 9, 9, dtype=int),\n",
    "              \"max_features\": ('auto', 'sqrt', 'log2'), \"n_jobs\": (-1,)}\n",
    "X_train, X_test, y_train, y_test = train_test_split(X, y, test_size=0.3)  \n",
    "classifier = GridSearchCV(model_object, parameters)\n",
    "classifier.fit(X_train, y_train)\n",
    "print(classifier.best_estimator_)\n",
    "print(classifier.best_score_)"
   ]
  },
  {
   "cell_type": "code",
   "execution_count": 26,
   "metadata": {},
   "outputs": [
    {
     "data": {
      "text/plain": [
       "{'accuracy': 0.9792746113989638,\n",
       " 'f_score': 0.977818853974122,\n",
       " 'precision': 0.9566003616636528,\n",
       " 'recall': 1.0}"
      ]
     },
     "execution_count": 26,
     "metadata": {},
     "output_type": "execute_result"
    }
   ],
   "source": [
    "model_object = classifier.best_estimator_\n",
    "model_object.fit(X_train, y_train)\n",
    "y_hat = model_object.predict(X_test)\n",
    "model_score = classification_scores(y_hat, y_test)\n",
    "model_score"
   ]
  },
  {
   "cell_type": "code",
   "execution_count": 27,
   "metadata": {},
   "outputs": [
    {
     "data": {
      "text/plain": [
       "{'accuracy': 0.9805713553769543,\n",
       " 'f_score': 0.9802498634304101,\n",
       " 'precision': 0.9612912708144288,\n",
       " 'recall': 1.0}"
      ]
     },
     "execution_count": 27,
     "metadata": {},
     "output_type": "execute_result"
    }
   ],
   "source": [
    "accuracies = []\n",
    "recalls = []\n",
    "precisions = []\n",
    "f_scores = []\n",
    "\n",
    "kf = KFold(n_splits=3, shuffle=True, random_state=123)\n",
    "\n",
    "for train_index, test_index in kf.split(X):\n",
    "    X_train, X_test = X.iloc[train_index], X.iloc[test_index]\n",
    "    y_train, y_test = y.iloc[train_index], y.iloc[test_index]\n",
    "\n",
    "    model_object.fit(X_train, y_train)\n",
    "    y_hat = model_object.predict(X_test)\n",
    "    model_score = classification_scores(y_hat, y_test)\n",
    "    accuracies.append(model_score.get(\"accuracy\"))\n",
    "    recalls.append(model_score.get(\"recall\"))\n",
    "    precisions.append(model_score.get(\"precision\"))\n",
    "    f_scores.append(model_score.get(\"f_score\"))\n",
    "\n",
    "model_score = {\"accuracy\": np.mean(accuracies),\n",
    "               \"precision\": np.mean(precisions),\n",
    "               \"recall\": np.mean(recalls),\n",
    "               \"f_score\": np.mean(f_scores)}     \n",
    "\n",
    "model_score"
   ]
  }
 ],
 "metadata": {
  "celltoolbar": "Raw Cell Format",
  "kernelspec": {
   "display_name": "Python 3",
   "language": "python",
   "name": "python3"
  },
  "language_info": {
   "codemirror_mode": {
    "name": "ipython",
    "version": 3
   },
   "file_extension": ".py",
   "mimetype": "text/x-python",
   "name": "python",
   "nbconvert_exporter": "python",
   "pygments_lexer": "ipython3",
   "version": "3.6.1"
  }
 },
 "nbformat": 4,
 "nbformat_minor": 2
}
