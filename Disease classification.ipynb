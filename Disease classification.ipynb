{
 "cells": [
  {
   "cell_type": "code",
   "execution_count": 1,
   "metadata": {
    "collapsed": true
   },
   "outputs": [],
   "source": [
    "import numpy as np\n",
    "import pandas as pd\n",
    "from scipy.spatial import distance, distance_matrix\n",
    "from sklearn.model_selection import train_test_split, GridSearchCV, KFold, LeaveOneOut\n",
    "from sklearn.tree import DecisionTreeClassifier, export_graphviz\n",
    "from sklearn.ensemble import RandomForestClassifier\n",
    "from sklearn.neighbors import KNeighborsClassifier\n",
    "from sklearn.svm import LinearSVC, SVC\n",
    "from sklearn.neural_network import MLPClassifier\n",
    "from sklearn.gaussian_process import GaussianProcessClassifier\n",
    "from sklearn.linear_model import LogisticRegression\n",
    "from sklearn.utils import resample\n",
    "import matplotlib.pyplot as plt\n",
    "from collections import Counter\n",
    "from copy import deepcopy\n",
    "from sklearn.metrics.pairwise import euclidean_distances, cosine_distances\n",
    "from sklearn.metrics import accuracy_score, precision_score, recall_score, f1_score, roc_auc_score, classification_report\n",
    "from threading import Thread\n",
    "from tqdm import tqdm\n",
    "import warnings\n",
    "warnings.filterwarnings('ignore')\n",
    "%matplotlib inline"
   ]
  },
  {
   "cell_type": "markdown",
   "metadata": {},
   "source": [
    "## Creation usefull instruments"
   ]
  },
  {
   "cell_type": "code",
   "execution_count": 2,
   "metadata": {
    "collapsed": true
   },
   "outputs": [],
   "source": [
    "class Color:\n",
    "   PURPLE = '\\033[95m'\n",
    "   CYAN = '\\033[96m'\n",
    "   DARKCYAN = '\\033[36m'\n",
    "   BLUE = '\\033[94m'\n",
    "   GREEN = '\\033[92m'\n",
    "   YELLOW = '\\033[93m'\n",
    "   RED = '\\033[91m'\n",
    "   BOLD = '\\033[1m'\n",
    "   UNDERLINE = '\\033[4m'\n",
    "   END = '\\033[0m'\n",
    "\n",
    "    \n",
    "# function allows to print colorful and bold text\n",
    "def pretty_print(text=\"\", text_headers=\"\", color=\"\", bold=False):\n",
    "    bold_part = Color.BOLD if bold else \"\"\n",
    "    color_part = Color.__dict__.get(color.upper(), \"\")\n",
    "    print(bold_part + color_part + text_headers + Color.END + text)\n"
   ]
  },
  {
   "cell_type": "code",
   "execution_count": 3,
   "metadata": {
    "collapsed": true
   },
   "outputs": [],
   "source": [
    "class Result:\n",
    "    \n",
    "    def __init__(self, model_name, model_parameters, model_score, data_for_graphics):\n",
    "        self.__name = model_name\n",
    "        self.__parameters = model_parameters\n",
    "        self.__score = model_score\n",
    "        if len(data_for_graphics) == 3:\n",
    "            self.__X_test = data_for_graphics[0]\n",
    "            self.__y_test = data_for_graphics[1]\n",
    "            self.__y_hat = data_for_graphics[2]\n",
    "        else:\n",
    "            print(\"Model %s has no data for graphics\", model_name)\n",
    "            self.__X_test = None\n",
    "            self.__y_test = None\n",
    "            self.__y_hat = None\n",
    "        \n",
    "    def get_name(self):\n",
    "        return self.__name\n",
    "    \n",
    "    def get_parameters(self):\n",
    "        return self.__parameters\n",
    "    \n",
    "    def get_score(self):\n",
    "        return self.__score\n",
    "\n",
    "    def show_result_graphics(self):\n",
    "        X_test = self.__X_test\n",
    "        y_test = self.__y_test\n",
    "        y_hat = self.__y_hat\n",
    "        if  X_test is not None and y_test is not None and y_hat is not None:\n",
    "            plt.subplot(1, 2, 1)\n",
    "            plt.title(\"y_hat\")\n",
    "            plt.scatter(np.linspace(0, len(y_hat), len(y_hat)), y_hat, c='orange')\n",
    "            plt.subplot(1, 2, 2)\n",
    "            plt.title(\"y_test\")\n",
    "            plt.scatter(np.linspace(0, len(y_test), len(y_test)), y_test)\n",
    "    \n",
    "    def classification_report(self):\n",
    "        print(self.__name)\n",
    "        print(classification_report(self.__y_hat, self.__y_test))\n",
    "    \n",
    "class Results:\n",
    "    \n",
    "    def __init__(self):\n",
    "        self.__results = {}\n",
    "        \n",
    "    def create_id(self):\n",
    "        new_key = 0\n",
    "        keys = self.__results.keys()\n",
    "        if keys:\n",
    "            new_key = max(self.__results.keys()) + 1\n",
    "        return new_key\n",
    "    \n",
    "    def add_result(self, model_name, model_parameters, model_score, data_for_graphics):\n",
    "        self.__results.update({model_name: Result(model_name, model_parameters, model_score, data_for_graphics)})\n",
    "        \n",
    "    def get_scores(self, show_model_parameters=False):\n",
    "        results = {}\n",
    "        result_dataframe_index = self.__results.keys()\n",
    "        result_dataframe_columns = [\"accuracy\", \"precision\", \"recall\", \"f_score\"]\n",
    "        result_df = pd.DataFrame(index=result_dataframe_index, columns=result_dataframe_columns)\n",
    "\n",
    "        for key, result_object in self.__results.items():\n",
    "            model_scores = result_object.get_score()\n",
    "            result_df.loc[key][\"accuracy\"] = model_scores.get(\"accuracy\")\n",
    "            result_df.loc[key][\"precision\"] = model_scores.get(\"precision\")\n",
    "            result_df.loc[key][\"recall\"] = model_scores.get(\"recall\")\n",
    "            result_df.loc[key][\"f_score\"] = model_scores.get(\"f_score\")\n",
    "            result_df.loc[key][\"parameters\"] = result_object.get_parameters()\n",
    " \n",
    "        return result_df\n",
    "    \n",
    "    def get_results(self):\n",
    "        return self.__results\n",
    "    \n",
    "    def get_concrete_result(self, model_name):\n",
    "        return self.__results.get(model_name)"
   ]
  },
  {
   "cell_type": "markdown",
   "metadata": {},
   "source": [
    "## Data loading from scv files\n",
    "1. all_data - data of morning and afternoon datasets\n",
    "2. morning_data - data of morning dataset\n",
    "3. afternoon_data - data of afternoon dataset"
   ]
  },
  {
   "cell_type": "code",
   "execution_count": 4,
   "metadata": {
    "collapsed": true
   },
   "outputs": [],
   "source": [
    "separator = ','\n",
    "all_data = pd.read_csv(\"all_data_preprocessed_filtering.csv\", sep=separator)\n",
    "morning_data = pd.read_csv(\"morning_data.csv\", sep=separator)\n",
    "afternoon_data =pd.read_csv(\"afternoon_data.csv\", sep=separator)\n",
    "datasets = [all_data, morning_data, afternoon_data]"
   ]
  },
  {
   "cell_type": "code",
   "execution_count": 5,
   "metadata": {},
   "outputs": [
    {
     "data": {
      "text/html": [
       "<div>\n",
       "<style>\n",
       "    .dataframe thead tr:only-child th {\n",
       "        text-align: right;\n",
       "    }\n",
       "\n",
       "    .dataframe thead th {\n",
       "        text-align: left;\n",
       "    }\n",
       "\n",
       "    .dataframe tbody tr th {\n",
       "        vertical-align: top;\n",
       "    }\n",
       "</style>\n",
       "<table border=\"1\" class=\"dataframe\">\n",
       "  <thead>\n",
       "    <tr style=\"text-align: right;\">\n",
       "      <th></th>\n",
       "      <th>age</th>\n",
       "      <th>gender</th>\n",
       "      <th>weight</th>\n",
       "      <th>smoking</th>\n",
       "      <th>diseasehypertonia</th>\n",
       "      <th>respiratory_disease</th>\n",
       "      <th>p_a</th>\n",
       "      <th>p_da</th>\n",
       "      <th>t_right_slopes</th>\n",
       "      <th>interval_pq</th>\n",
       "      <th>kurtosis</th>\n",
       "      <th>nn50</th>\n",
       "      <th>lfp</th>\n",
       "      <th>br</th>\n",
       "    </tr>\n",
       "  </thead>\n",
       "  <tbody>\n",
       "    <tr>\n",
       "      <th>0</th>\n",
       "      <td>65</td>\n",
       "      <td>1</td>\n",
       "      <td>81</td>\n",
       "      <td>1</td>\n",
       "      <td>0</td>\n",
       "      <td>0</td>\n",
       "      <td>0.008323</td>\n",
       "      <td>0.000011</td>\n",
       "      <td>-0.000266</td>\n",
       "      <td>-0.149</td>\n",
       "      <td>1.183951</td>\n",
       "      <td>0</td>\n",
       "      <td>0.416088</td>\n",
       "      <td>31.292105</td>\n",
       "    </tr>\n",
       "    <tr>\n",
       "      <th>1</th>\n",
       "      <td>43</td>\n",
       "      <td>0</td>\n",
       "      <td>60</td>\n",
       "      <td>0</td>\n",
       "      <td>0</td>\n",
       "      <td>0</td>\n",
       "      <td>0.007437</td>\n",
       "      <td>0.000032</td>\n",
       "      <td>-0.000282</td>\n",
       "      <td>-0.054</td>\n",
       "      <td>0.573783</td>\n",
       "      <td>0</td>\n",
       "      <td>0.123064</td>\n",
       "      <td>36.408043</td>\n",
       "    </tr>\n",
       "    <tr>\n",
       "      <th>2</th>\n",
       "      <td>73</td>\n",
       "      <td>0</td>\n",
       "      <td>92</td>\n",
       "      <td>0</td>\n",
       "      <td>1</td>\n",
       "      <td>0</td>\n",
       "      <td>0.009876</td>\n",
       "      <td>0.000015</td>\n",
       "      <td>-0.000392</td>\n",
       "      <td>-0.091</td>\n",
       "      <td>0.321415</td>\n",
       "      <td>0</td>\n",
       "      <td>0.119404</td>\n",
       "      <td>19.919365</td>\n",
       "    </tr>\n",
       "    <tr>\n",
       "      <th>3</th>\n",
       "      <td>61</td>\n",
       "      <td>1</td>\n",
       "      <td>55</td>\n",
       "      <td>1</td>\n",
       "      <td>0</td>\n",
       "      <td>1</td>\n",
       "      <td>0.007188</td>\n",
       "      <td>0.000004</td>\n",
       "      <td>-0.000426</td>\n",
       "      <td>-0.079</td>\n",
       "      <td>0.205573</td>\n",
       "      <td>0</td>\n",
       "      <td>0.326354</td>\n",
       "      <td>20.744604</td>\n",
       "    </tr>\n",
       "    <tr>\n",
       "      <th>4</th>\n",
       "      <td>63</td>\n",
       "      <td>1</td>\n",
       "      <td>65</td>\n",
       "      <td>1</td>\n",
       "      <td>1</td>\n",
       "      <td>1</td>\n",
       "      <td>0.007358</td>\n",
       "      <td>-0.000011</td>\n",
       "      <td>-0.000370</td>\n",
       "      <td>-0.069</td>\n",
       "      <td>-0.389226</td>\n",
       "      <td>0</td>\n",
       "      <td>0.222550</td>\n",
       "      <td>17.599829</td>\n",
       "    </tr>\n",
       "  </tbody>\n",
       "</table>\n",
       "</div>"
      ],
      "text/plain": [
       "   age  gender  weight  smoking  diseasehypertonia  respiratory_disease  \\\n",
       "0   65       1      81        1                  0                    0   \n",
       "1   43       0      60        0                  0                    0   \n",
       "2   73       0      92        0                  1                    0   \n",
       "3   61       1      55        1                  0                    1   \n",
       "4   63       1      65        1                  1                    1   \n",
       "\n",
       "        p_a      p_da  t_right_slopes  interval_pq  kurtosis  nn50       lfp  \\\n",
       "0  0.008323  0.000011       -0.000266       -0.149  1.183951     0  0.416088   \n",
       "1  0.007437  0.000032       -0.000282       -0.054  0.573783     0  0.123064   \n",
       "2  0.009876  0.000015       -0.000392       -0.091  0.321415     0  0.119404   \n",
       "3  0.007188  0.000004       -0.000426       -0.079  0.205573     0  0.326354   \n",
       "4  0.007358 -0.000011       -0.000370       -0.069 -0.389226     0  0.222550   \n",
       "\n",
       "          br  \n",
       "0  31.292105  \n",
       "1  36.408043  \n",
       "2  19.919365  \n",
       "3  20.744604  \n",
       "4  17.599829  "
      ]
     },
     "execution_count": 5,
     "metadata": {},
     "output_type": "execute_result"
    }
   ],
   "source": [
    "all_data.head()"
   ]
  },
  {
   "cell_type": "markdown",
   "metadata": {},
   "source": [
    "## Function for process"
   ]
  },
  {
   "cell_type": "code",
   "execution_count": 6,
   "metadata": {
    "collapsed": true
   },
   "outputs": [],
   "source": [
    "# function for creation data for model fitting process\n",
    "def create_models_data(df, models_data, test_size=0.3):\n",
    "    models = []\n",
    "    for model_data in models_data:\n",
    "        dataframe_info = [df, test_size]\n",
    "        dataframe_info.extend(model_data)\n",
    "        models.append(dataframe_info)\n",
    "    return models\n",
    "\n",
    "# classification report in dict view\n",
    "def classification_scores(y_hat, y_test):\n",
    "    scores = {}\n",
    "    scores[\"accuracy\"] = accuracy_score(y_hat, y_test)\n",
    "    scores[\"precision\"] = precision_score(y_hat, y_test)\n",
    "    scores[\"recall\"] = recall_score(y_hat, y_test)\n",
    "    scores[\"f_score\"] = f1_score(y_hat, y_test)\n",
    "    return scores"
   ]
  },
  {
   "cell_type": "code",
   "execution_count": 9,
   "metadata": {
    "collapsed": true
   },
   "outputs": [],
   "source": [
    "class ModelsCollector:\n",
    "    def __init__(self):\n",
    "        self.results = None\n",
    "        \n",
    "    def set_collector_object(self, collector_object):\n",
    "        self.results = collector_object\n",
    "\n",
    "    def basic_model(self, df, test_size, model_object, model_saving_name):\n",
    "        def model_function(df, test_size, model_object, model_saving_name):\n",
    "            data = deepcopy(df)\n",
    "            y = data['respiratory_disease']\n",
    "            X = data.drop(['respiratory_disease'], axis=1)\n",
    "            X_train, X_test, y_train, y_test = train_test_split(X, y, test_size=test_size)  \n",
    "            model_object.fit(X_train, y_train)\n",
    "            y_hat = model_object.predict(X_test)\n",
    "            model_score = classification_scores(y_hat, y_test)\n",
    "            data_for_graphics = [X_test, y_test, y_hat]\n",
    "            self.results.add_result(model_saving_name, model_object.get_params(), model_score, data_for_graphics)\n",
    "\n",
    "        model_thread = Thread(target=model_function, args=[df, test_size, model_object, model_saving_name])\n",
    "        model_thread.start()\n",
    "\n",
    "    def GSCV_model(self, df, test_size, model_object, model_saving_name, parameters):\n",
    "        def model_function(df, test_size, model_object, model_saving_name, parameters):\n",
    "            data = deepcopy(df)\n",
    "            y = data['respiratory_disease']\n",
    "            X = data.drop(['respiratory_disease'], axis=1)\n",
    "            X_train, X_test, y_train, y_test = train_test_split(X, y, test_size=test_size)  \n",
    "            classifier = GridSearchCV(model_object, parameters)\n",
    "            classifier.best_estimator_.fit(X_train, y_train)\n",
    "            model_score = classification_scores(y_hat, y_test)\n",
    "            self.results.add_result(model_saving_name, model_object.get_params(), model_score, data_for_graphics)\n",
    "\n",
    "        model_thread = Thread(target=model_function, args=[df, test_size, model_object, model_saving_name, parameters])\n",
    "        model_thread.start()\n",
    "        \n",
    "    def KFOLD_model(self, df, test_size, model_object, model_saving_name, n_splits, shuffle=False, random_state=None):\n",
    "        def model_function(df, test_size, model_object, model_saving_name, n_splits, shuffle=False, random_state=None):\n",
    "            results = []\n",
    "            kf = KFold(n_splits=2, shuffle=shuffle, random_state=random_state)\n",
    "            for train_index, test_index in kf.split(X):\n",
    "                X_train, X_test = X[train_index], X[test_index]\n",
    "                y_train, y_test = y[train_index], y[test_index]\n",
    "\n",
    "                model_object.fit(X_train, y_train)\n",
    "                y_hat = model_object.predict(X_test)\n",
    "                model_score = classification_scores(y_hat, y_test)\n",
    "                data_for_graphics = [X_test, y_test, y_hat]\n",
    "                self.results.add_result(model_saving_name, model_object.get_params(), model_score, data_for_graphics)\n",
    "\n",
    "        model_thread = Thread(target=model_function, args=[df, test_size, model_object, model_saving_name])\n",
    "        model_thread.start()"
   ]
  },
  {
   "cell_type": "markdown",
   "metadata": {},
   "source": [
    "## Models"
   ]
  },
  {
   "cell_type": "code",
   "execution_count": 10,
   "metadata": {},
   "outputs": [],
   "source": [
    "LGR_basic = [LogisticRegression(), \"LogisticRegression_basic\"]\n",
    "DTC_basic = [DecisionTreeClassifier(), \"DecisionTreeClassifier_basic\"]\n",
    "SVC_basic = [SVC(), \"SVC_basic\"]\n",
    "KNC_basic = [KNeighborsClassifier(), \"KNeighborsClassifier_basic\"]\n",
    "RFC_basic = [RandomForestClassifier(), \"RandomForestClassifier_basic\"]\n",
    "LSVC_basic = [LinearSVC(), \"LinearSVC_basic\"]\n",
    "models_data = [LGR_basic, DTC_basic, SVC_basic, KNC_basic, RFC_basic, LSVC_basic]\n",
    "models = create_models_data(all_data, models_data=models_data, test_size=0.3)\n",
    "models_collector = ModelsCollector()\n",
    "results = Results()  # object for saving results\n",
    "models_collector.set_collector_object(results)"
   ]
  },
  {
   "cell_type": "code",
   "execution_count": 12,
   "metadata": {},
   "outputs": [],
   "source": [
    "for model in models:\n",
    "    models_collector.basic_model(*model)"
   ]
  },
  {
   "cell_type": "code",
   "execution_count": 13,
   "metadata": {},
   "outputs": [
    {
     "data": {
      "text/html": [
       "<div>\n",
       "<style>\n",
       "    .dataframe thead tr:only-child th {\n",
       "        text-align: right;\n",
       "    }\n",
       "\n",
       "    .dataframe thead th {\n",
       "        text-align: left;\n",
       "    }\n",
       "\n",
       "    .dataframe tbody tr th {\n",
       "        vertical-align: top;\n",
       "    }\n",
       "</style>\n",
       "<table border=\"1\" class=\"dataframe\">\n",
       "  <thead>\n",
       "    <tr style=\"text-align: right;\">\n",
       "      <th></th>\n",
       "      <th>accuracy</th>\n",
       "      <th>precision</th>\n",
       "      <th>recall</th>\n",
       "      <th>f_score</th>\n",
       "    </tr>\n",
       "  </thead>\n",
       "  <tbody>\n",
       "    <tr>\n",
       "      <th>KNeighborsClassifier_basic</th>\n",
       "      <td>0.933121</td>\n",
       "      <td>0.996534</td>\n",
       "      <td>0.934959</td>\n",
       "      <td>0.964765</td>\n",
       "    </tr>\n",
       "    <tr>\n",
       "      <th>DecisionTreeClassifier_basic</th>\n",
       "      <td>0.890127</td>\n",
       "      <td>0.931624</td>\n",
       "      <td>0.949477</td>\n",
       "      <td>0.940466</td>\n",
       "    </tr>\n",
       "    <tr>\n",
       "      <th>LogisticRegression_basic</th>\n",
       "      <td>0.926752</td>\n",
       "      <td>1</td>\n",
       "      <td>0.926752</td>\n",
       "      <td>0.961983</td>\n",
       "    </tr>\n",
       "    <tr>\n",
       "      <th>RandomForestClassifier_basic</th>\n",
       "      <td>0.952229</td>\n",
       "      <td>0.991525</td>\n",
       "      <td>0.959016</td>\n",
       "      <td>0.975</td>\n",
       "    </tr>\n",
       "    <tr>\n",
       "      <th>LinearSVC_basic</th>\n",
       "      <td>0.904459</td>\n",
       "      <td>1</td>\n",
       "      <td>0.904459</td>\n",
       "      <td>0.949833</td>\n",
       "    </tr>\n",
       "    <tr>\n",
       "      <th>SVC_basic</th>\n",
       "      <td>0.923567</td>\n",
       "      <td>1</td>\n",
       "      <td>0.92283</td>\n",
       "      <td>0.959866</td>\n",
       "    </tr>\n",
       "  </tbody>\n",
       "</table>\n",
       "</div>"
      ],
      "text/plain": [
       "                              accuracy precision    recall   f_score\n",
       "KNeighborsClassifier_basic    0.933121  0.996534  0.934959  0.964765\n",
       "DecisionTreeClassifier_basic  0.890127  0.931624  0.949477  0.940466\n",
       "LogisticRegression_basic      0.926752         1  0.926752  0.961983\n",
       "RandomForestClassifier_basic  0.952229  0.991525  0.959016     0.975\n",
       "LinearSVC_basic               0.904459         1  0.904459  0.949833\n",
       "SVC_basic                     0.923567         1   0.92283  0.959866"
      ]
     },
     "execution_count": 13,
     "metadata": {},
     "output_type": "execute_result"
    }
   ],
   "source": [
    "results.get_scores()"
   ]
  },
  {
   "cell_type": "markdown",
   "metadata": {},
   "source": [
    "### Results review\n",
    "Thought we have really great perfomance, our models are not good, because number of objects for fitting was imbalanced, \n",
    "number of patients of class 0 was too low"
   ]
  },
  {
   "cell_type": "markdown",
   "metadata": {},
   "source": [
    "### DecisionTreeClassifier_basic"
   ]
  },
  {
   "cell_type": "code",
   "execution_count": 67,
   "metadata": {},
   "outputs": [
    {
     "name": "stdout",
     "output_type": "stream",
     "text": [
      "Total score of model is: {'accuracy': 0.8837579617834395, 'precision': 0.9360967184801382, 'recall': 0.9377162629757786, 'f_score': 0.9369057908383752}\n"
     ]
    },
    {
     "data": {
      "image/png": "[encoded data removed]",
      "text/plain": [
       "<matplotlib.figure.Figure at 0xde6ac4bf60>"
      ]
     },
     "metadata": {},
     "output_type": "display_data"
    }
   ],
   "source": [
    "result_object = results.get_concrete_result('DecisionTreeClassifier_basic')\n",
    "result_object.show_result_graphics()\n",
    "print(\"Total score of model is:\", result_object.get_score())"
   ]
  },
  {
   "cell_type": "markdown",
   "metadata": {},
   "source": [
    "### KNeighborsClassifier_basic"
   ]
  },
  {
   "cell_type": "code",
   "execution_count": 68,
   "metadata": {},
   "outputs": [
    {
     "name": "stdout",
     "output_type": "stream",
     "text": [
      "Total score of model is: {'accuracy': 0.9490445859872612, 'precision': 0.9983079526226735, 'recall': 0.9500805152979066, 'f_score': 0.9735973597359736}\n"
     ]
    },
    {
     "data": {
      "image/png": "[encoded data removed]",
      "text/plain": [
       "<matplotlib.figure.Figure at 0xde6ae8a390>"
      ]
     },
     "metadata": {},
     "output_type": "display_data"
    }
   ],
   "source": [
    "result_object = results.get_concrete_result('KNeighborsClassifier_basic')\n",
    "result_object.show_result_graphics()\n",
    "print(\"Total score of model is:\", result_object.get_score())"
   ]
  },
  {
   "cell_type": "markdown",
   "metadata": {},
   "source": [
    "### LinearSVC_basic"
   ]
  },
  {
   "cell_type": "code",
   "execution_count": 69,
   "metadata": {},
   "outputs": [
    {
     "name": "stdout",
     "output_type": "stream",
     "text": [
      "Total score of model is: {'accuracy': 0.9171974522292994, 'precision': 1.0, 'recall': 0.9171974522292994, 'f_score': 0.9568106312292359}\n"
     ]
    },
    {
     "data": {
      "image/png": "[encoded data removed]",
      "text/plain": [
       "<matplotlib.figure.Figure at 0xde6cc1bb70>"
      ]
     },
     "metadata": {},
     "output_type": "display_data"
    }
   ],
   "source": [
    "result_object = results.get_concrete_result('LinearSVC_basic')\n",
    "result_object.show_result_graphics()\n",
    "print(\"Total score of model is:\", result_object.get_score())"
   ]
  },
  {
   "cell_type": "markdown",
   "metadata": {},
   "source": [
    "### LogisticRegression_basic"
   ]
  },
  {
   "cell_type": "code",
   "execution_count": 70,
   "metadata": {},
   "outputs": [
    {
     "name": "stdout",
     "output_type": "stream",
     "text": [
      "Total score of model is: {'accuracy': 0.9347133757961783, 'precision': 0.9982935153583617, 'recall': 0.936, 'f_score': 0.9661436829066887}\n"
     ]
    },
    {
     "data": {
      "image/png": "[encoded data removed]",
      "text/plain": [
       "<matplotlib.figure.Figure at 0xde6ccc0320>"
      ]
     },
     "metadata": {},
     "output_type": "display_data"
    }
   ],
   "source": [
    "result_object = results.get_concrete_result('LogisticRegression_basic')\n",
    "result_object.show_result_graphics()\n",
    "print(\"Total score of model is:\", result_object.get_score())"
   ]
  },
  {
   "cell_type": "markdown",
   "metadata": {},
   "source": [
    "### RandomForestClassifier_basic"
   ]
  },
  {
   "cell_type": "code",
   "execution_count": 71,
   "metadata": {},
   "outputs": [
    {
     "name": "stdout",
     "output_type": "stream",
     "text": [
      "Total score of model is: {'accuracy': 0.9235668789808917, 'precision': 0.9965034965034965, 'recall': 0.9253246753246753, 'f_score': 0.9595959595959596}\n"
     ]
    },
    {
     "data": {
      "image/png": "[encoded data removed]",
      "text/plain": [
       "<matplotlib.figure.Figure at 0xde6cd67fd0>"
      ]
     },
     "metadata": {},
     "output_type": "display_data"
    }
   ],
   "source": [
    "result_object = results.get_concrete_result('RandomForestClassifier_basic')\n",
    "result_object.show_result_graphics()\n",
    "print(\"Total score of model is:\", result_object.get_score())"
   ]
  },
  {
   "cell_type": "markdown",
   "metadata": {},
   "source": [
    "### SVC_basic"
   ]
  },
  {
   "cell_type": "code",
   "execution_count": 72,
   "metadata": {},
   "outputs": [
    {
     "name": "stdout",
     "output_type": "stream",
     "text": [
      "Total score of model is: {'accuracy': 0.9315286624203821, 'precision': 0.9982758620689656, 'recall': 0.9323671497584541, 'f_score': 0.9641965029142381}\n"
     ]
    },
    {
     "data": {
      "image/png": "[encoded data removed]",
      "text/plain": [
       "<matplotlib.figure.Figure at 0xde6cdc1390>"
      ]
     },
     "metadata": {},
     "output_type": "display_data"
    }
   ],
   "source": [
    "result_object = results.get_concrete_result('SVC_basic')\n",
    "result_object.show_result_graphics()\n",
    "print(\"Total score of model is:\", result_object.get_score())"
   ]
  },
  {
   "cell_type": "markdown",
   "metadata": {},
   "source": [
    "### Logistic Regression GSCV"
   ]
  },
  {
   "cell_type": "markdown",
   "metadata": {},
   "source": [
    "## Class balancing"
   ]
  },
  {
   "cell_type": "markdown",
   "metadata": {},
   "source": [
    "### Oversampling"
   ]
  },
  {
   "cell_type": "code",
   "execution_count": 14,
   "metadata": {
    "collapsed": true
   },
   "outputs": [],
   "source": [
    "df = deepcopy(all_data)"
   ]
  },
  {
   "cell_type": "code",
   "execution_count": 15,
   "metadata": {
    "collapsed": true
   },
   "outputs": [],
   "source": [
    "df_major = df[df.respiratory_disease == 1]\n",
    "df_minor = df[df.respiratory_disease == 0]\n",
    "df_minor_upsampled = resample(df_minor, replace=True, n_samples=df_major.shape[0])\n",
    "df_oversampled = pd.concat([df_major, df_minor_upsampled])"
   ]
  },
  {
   "cell_type": "markdown",
   "metadata": {},
   "source": [
    "### Undersampling"
   ]
  },
  {
   "cell_type": "code",
   "execution_count": 16,
   "metadata": {
    "collapsed": true
   },
   "outputs": [],
   "source": [
    "df_major = df[df.respiratory_disease == 1]\n",
    "df_minor = df[df.respiratory_disease == 0]\n",
    "df_major_downsampled = resample(df_major, replace=True, n_samples=df_minor.shape[0])\n",
    "df_undersampled = pd.concat([df_minor, df_major_downsampled])"
   ]
  },
  {
   "cell_type": "markdown",
   "metadata": {},
   "source": [
    "### Models fitting"
   ]
  },
  {
   "cell_type": "code",
   "execution_count": 18,
   "metadata": {
    "collapsed": true
   },
   "outputs": [],
   "source": [
    "models_data = [LGR_basic, DTC_basic, SVC_basic, KNC_basic, RFC_basic, LSVC_basic]\n",
    "models = create_models_data(df_oversampled, models_data=models_data, test_size=0.3)\n",
    "results_oversampled_data = Results()  # object for saving results\n",
    "models_collector.set_collector_object(results_oversampled_data)"
   ]
  },
  {
   "cell_type": "code",
   "execution_count": 20,
   "metadata": {},
   "outputs": [],
   "source": [
    "for model in models:\n",
    "    models_collector.basic_model(*model)"
   ]
  },
  {
   "cell_type": "code",
   "execution_count": 22,
   "metadata": {},
   "outputs": [
    {
     "data": {
      "text/html": [
       "<div>\n",
       "<style>\n",
       "    .dataframe thead tr:only-child th {\n",
       "        text-align: right;\n",
       "    }\n",
       "\n",
       "    .dataframe thead th {\n",
       "        text-align: left;\n",
       "    }\n",
       "\n",
       "    .dataframe tbody tr th {\n",
       "        vertical-align: top;\n",
       "    }\n",
       "</style>\n",
       "<table border=\"1\" class=\"dataframe\">\n",
       "  <thead>\n",
       "    <tr style=\"text-align: right;\">\n",
       "      <th></th>\n",
       "      <th>accuracy</th>\n",
       "      <th>precision</th>\n",
       "      <th>recall</th>\n",
       "      <th>f_score</th>\n",
       "    </tr>\n",
       "  </thead>\n",
       "  <tbody>\n",
       "    <tr>\n",
       "      <th>LogisticRegression_basic</th>\n",
       "      <td>0.618307</td>\n",
       "      <td>0.603093</td>\n",
       "      <td>0.624555</td>\n",
       "      <td>0.613636</td>\n",
       "    </tr>\n",
       "    <tr>\n",
       "      <th>DecisionTreeClassifier_basic</th>\n",
       "      <td>0.96114</td>\n",
       "      <td>0.923208</td>\n",
       "      <td>1</td>\n",
       "      <td>0.960071</td>\n",
       "    </tr>\n",
       "    <tr>\n",
       "      <th>KNeighborsClassifier_basic</th>\n",
       "      <td>0.949914</td>\n",
       "      <td>0.916667</td>\n",
       "      <td>0.983577</td>\n",
       "      <td>0.948944</td>\n",
       "    </tr>\n",
       "    <tr>\n",
       "      <th>RandomForestClassifier_basic</th>\n",
       "      <td>0.992228</td>\n",
       "      <td>0.984266</td>\n",
       "      <td>1</td>\n",
       "      <td>0.99207</td>\n",
       "    </tr>\n",
       "    <tr>\n",
       "      <th>LinearSVC_basic</th>\n",
       "      <td>0.508636</td>\n",
       "      <td>0.994792</td>\n",
       "      <td>0.503073</td>\n",
       "      <td>0.668222</td>\n",
       "    </tr>\n",
       "    <tr>\n",
       "      <th>SVC_basic</th>\n",
       "      <td>0.991364</td>\n",
       "      <td>0.982425</td>\n",
       "      <td>1</td>\n",
       "      <td>0.991135</td>\n",
       "    </tr>\n",
       "  </tbody>\n",
       "</table>\n",
       "</div>"
      ],
      "text/plain": [
       "                              accuracy precision    recall   f_score\n",
       "LogisticRegression_basic      0.618307  0.603093  0.624555  0.613636\n",
       "DecisionTreeClassifier_basic   0.96114  0.923208         1  0.960071\n",
       "KNeighborsClassifier_basic    0.949914  0.916667  0.983577  0.948944\n",
       "RandomForestClassifier_basic  0.992228  0.984266         1   0.99207\n",
       "LinearSVC_basic               0.508636  0.994792  0.503073  0.668222\n",
       "SVC_basic                     0.991364  0.982425         1  0.991135"
      ]
     },
     "execution_count": 22,
     "metadata": {},
     "output_type": "execute_result"
    }
   ],
   "source": [
    "results_oversampled_data.get_scores()"
   ]
  },
  {
   "cell_type": "code",
   "execution_count": 23,
   "metadata": {
    "collapsed": true
   },
   "outputs": [],
   "source": [
    "models_data = [LGR_basic, DTC_basic, SVC_basic, KNC_basic, RFC_basic, LSVC_basic]\n",
    "models = create_models_data(df_undersampled, models_data=models_data, test_size=0.3)\n",
    "results_undersampled_data = Results()  # object for saving results\n",
    "models_collector.set_collector_object(results_undersampled_data)"
   ]
  },
  {
   "cell_type": "code",
   "execution_count": 24,
   "metadata": {
    "collapsed": true
   },
   "outputs": [],
   "source": [
    "for model in models:\n",
    "    models_collector.basic_model(*model)"
   ]
  },
  {
   "cell_type": "code",
   "execution_count": 25,
   "metadata": {},
   "outputs": [
    {
     "data": {
      "text/html": [
       "<div>\n",
       "<style>\n",
       "    .dataframe thead tr:only-child th {\n",
       "        text-align: right;\n",
       "    }\n",
       "\n",
       "    .dataframe thead th {\n",
       "        text-align: left;\n",
       "    }\n",
       "\n",
       "    .dataframe tbody tr th {\n",
       "        vertical-align: top;\n",
       "    }\n",
       "</style>\n",
       "<table border=\"1\" class=\"dataframe\">\n",
       "  <thead>\n",
       "    <tr style=\"text-align: right;\">\n",
       "      <th></th>\n",
       "      <th>accuracy</th>\n",
       "      <th>precision</th>\n",
       "      <th>recall</th>\n",
       "      <th>f_score</th>\n",
       "    </tr>\n",
       "  </thead>\n",
       "  <tbody>\n",
       "    <tr>\n",
       "      <th>LogisticRegression_basic</th>\n",
       "      <td>0.55102</td>\n",
       "      <td>0.541667</td>\n",
       "      <td>0.541667</td>\n",
       "      <td>0.541667</td>\n",
       "    </tr>\n",
       "    <tr>\n",
       "      <th>KNeighborsClassifier_basic</th>\n",
       "      <td>0.642857</td>\n",
       "      <td>0.630435</td>\n",
       "      <td>0.617021</td>\n",
       "      <td>0.623656</td>\n",
       "    </tr>\n",
       "    <tr>\n",
       "      <th>SVC_basic</th>\n",
       "      <td>0.55102</td>\n",
       "      <td>0.314815</td>\n",
       "      <td>0.708333</td>\n",
       "      <td>0.435897</td>\n",
       "    </tr>\n",
       "    <tr>\n",
       "      <th>DecisionTreeClassifier_basic</th>\n",
       "      <td>0.683673</td>\n",
       "      <td>0.66</td>\n",
       "      <td>0.702128</td>\n",
       "      <td>0.680412</td>\n",
       "    </tr>\n",
       "    <tr>\n",
       "      <th>LinearSVC_basic</th>\n",
       "      <td>0.561224</td>\n",
       "      <td>1</td>\n",
       "      <td>0.556701</td>\n",
       "      <td>0.715232</td>\n",
       "    </tr>\n",
       "    <tr>\n",
       "      <th>RandomForestClassifier_basic</th>\n",
       "      <td>0.642857</td>\n",
       "      <td>0.625</td>\n",
       "      <td>0.714286</td>\n",
       "      <td>0.666667</td>\n",
       "    </tr>\n",
       "  </tbody>\n",
       "</table>\n",
       "</div>"
      ],
      "text/plain": [
       "                              accuracy precision    recall   f_score\n",
       "LogisticRegression_basic       0.55102  0.541667  0.541667  0.541667\n",
       "KNeighborsClassifier_basic    0.642857  0.630435  0.617021  0.623656\n",
       "SVC_basic                      0.55102  0.314815  0.708333  0.435897\n",
       "DecisionTreeClassifier_basic  0.683673      0.66  0.702128  0.680412\n",
       "LinearSVC_basic               0.561224         1  0.556701  0.715232\n",
       "RandomForestClassifier_basic  0.642857     0.625  0.714286  0.666667"
      ]
     },
     "execution_count": 25,
     "metadata": {},
     "output_type": "execute_result"
    }
   ],
   "source": [
    "results_undersampled_data.get_scores()"
   ]
  },
  {
   "cell_type": "code",
   "execution_count": 14,
   "metadata": {
    "collapsed": true
   },
   "outputs": [],
   "source": []
  },
  {
   "cell_type": "code",
   "execution_count": null,
   "metadata": {
    "collapsed": true
   },
   "outputs": [],
   "source": [
    "\n",
    "data = deepcopy(all_data)\n",
    "y = data['respiratory_disease']\n",
    "X = data.drop(['respiratory_disease'], axis=1)\n",
    "X_train, X_test, y_train, y_test = train_test_split(X, y, test_size=test_size)  # sharing dataset on train and test\n",
    "\n",
    "\n",
    "parameters = {'kernel':('rbf', 'sigmoid'), 'C':[1, 10]}\n",
    "classifier = GridSearchCV(SVC(), parameters)\n",
    "classifier.fit(X_train, y_train)"
   ]
  },
  {
   "cell_type": "code",
   "execution_count": null,
   "metadata": {
    "collapsed": true
   },
   "outputs": [],
   "source": []
  },
  {
   "cell_type": "code",
   "execution_count": null,
   "metadata": {
    "collapsed": true
   },
   "outputs": [],
   "source": []
  },
  {
   "cell_type": "code",
   "execution_count": null,
   "metadata": {
    "collapsed": true
   },
   "outputs": [],
   "source": []
  }
 ],
 "metadata": {
  "celltoolbar": "Raw Cell Format",
  "kernelspec": {
   "display_name": "Python 3",
   "language": "python",
   "name": "python3"
  },
  "language_info": {
   "codemirror_mode": {
    "name": "ipython",
    "version": 3
   },
   "file_extension": ".py",
   "mimetype": "text/x-python",
   "name": "python",
   "nbconvert_exporter": "python",
   "pygments_lexer": "ipython3",
   "version": "3.6.1"
  }
 },
 "nbformat": 4,
 "nbformat_minor": 2
}
